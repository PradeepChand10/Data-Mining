{
 "cells": [
  {
   "cell_type": "code",
   "execution_count": 1,
   "id": "599a79d3-2b54-494c-a368-da248ac239aa",
   "metadata": {
    "tags": []
   },
   "outputs": [],
   "source": [
    "#Import the libraries\n",
    "from imblearn.under_sampling import NearMiss            #under-sampling technique used for addressing class imbalance\n",
    "import pandas as pd\n",
    "import numpy as np\n",
    "import seaborn as sns\n",
    "import warnings\n",
    "import matplotlib.pyplot as plt\n",
    "from sklearn.tree import DecisionTreeClassifier\n",
    "from sklearn import linear_model, preprocessing\n",
    "from sklearn.metrics import accuracy_score, precision_score, recall_score, f1_score, classification_report,confusion_matrix\n",
    "from sklearn.metrics import RocCurveDisplay\n",
    "from sklearn.model_selection import train_test_split, cross_val_score, GridSearchCV,RandomizedSearchCV\n",
    "from sklearn.ensemble import RandomForestClassifier,AdaBoostClassifier\n",
    "np.random.seed(42)\n",
    "warnings.filterwarnings(\"ignore\")"
   ]
  },
  {
   "cell_type": "code",
   "execution_count": 2,
   "id": "57b87b16-f28f-41db-9563-fd8961f62d48",
   "metadata": {
    "tags": []
   },
   "outputs": [
    {
     "data": {
      "text/html": [
       "<div>\n",
       "<style scoped>\n",
       "    .dataframe tbody tr th:only-of-type {\n",
       "        vertical-align: middle;\n",
       "    }\n",
       "\n",
       "    .dataframe tbody tr th {\n",
       "        vertical-align: top;\n",
       "    }\n",
       "\n",
       "    .dataframe thead th {\n",
       "        text-align: right;\n",
       "    }\n",
       "</style>\n",
       "<table border=\"1\" class=\"dataframe\">\n",
       "  <thead>\n",
       "    <tr style=\"text-align: right;\">\n",
       "      <th></th>\n",
       "      <th>Unnamed: 0</th>\n",
       "      <th>diabetes_012</th>\n",
       "      <th>highbp</th>\n",
       "      <th>highchol</th>\n",
       "      <th>cholcheck</th>\n",
       "      <th>bmi</th>\n",
       "      <th>smoker</th>\n",
       "      <th>stroke</th>\n",
       "      <th>heartdiseaseorattack</th>\n",
       "      <th>physactivity</th>\n",
       "      <th>...</th>\n",
       "      <th>anyhealthcare</th>\n",
       "      <th>nodocbccost</th>\n",
       "      <th>genhlth</th>\n",
       "      <th>menthlth</th>\n",
       "      <th>physhlth</th>\n",
       "      <th>diffwalk</th>\n",
       "      <th>sex</th>\n",
       "      <th>age</th>\n",
       "      <th>education</th>\n",
       "      <th>income</th>\n",
       "    </tr>\n",
       "  </thead>\n",
       "  <tbody>\n",
       "    <tr>\n",
       "      <th>0</th>\n",
       "      <td>0</td>\n",
       "      <td>0</td>\n",
       "      <td>1</td>\n",
       "      <td>1</td>\n",
       "      <td>1</td>\n",
       "      <td>40</td>\n",
       "      <td>1</td>\n",
       "      <td>0</td>\n",
       "      <td>0</td>\n",
       "      <td>0</td>\n",
       "      <td>...</td>\n",
       "      <td>1</td>\n",
       "      <td>0</td>\n",
       "      <td>5</td>\n",
       "      <td>18</td>\n",
       "      <td>15</td>\n",
       "      <td>1</td>\n",
       "      <td>0</td>\n",
       "      <td>9</td>\n",
       "      <td>4</td>\n",
       "      <td>3</td>\n",
       "    </tr>\n",
       "    <tr>\n",
       "      <th>1</th>\n",
       "      <td>1</td>\n",
       "      <td>0</td>\n",
       "      <td>0</td>\n",
       "      <td>0</td>\n",
       "      <td>0</td>\n",
       "      <td>25</td>\n",
       "      <td>1</td>\n",
       "      <td>0</td>\n",
       "      <td>0</td>\n",
       "      <td>1</td>\n",
       "      <td>...</td>\n",
       "      <td>0</td>\n",
       "      <td>1</td>\n",
       "      <td>3</td>\n",
       "      <td>0</td>\n",
       "      <td>0</td>\n",
       "      <td>0</td>\n",
       "      <td>0</td>\n",
       "      <td>7</td>\n",
       "      <td>6</td>\n",
       "      <td>1</td>\n",
       "    </tr>\n",
       "    <tr>\n",
       "      <th>2</th>\n",
       "      <td>2</td>\n",
       "      <td>0</td>\n",
       "      <td>1</td>\n",
       "      <td>1</td>\n",
       "      <td>1</td>\n",
       "      <td>28</td>\n",
       "      <td>0</td>\n",
       "      <td>0</td>\n",
       "      <td>0</td>\n",
       "      <td>0</td>\n",
       "      <td>...</td>\n",
       "      <td>1</td>\n",
       "      <td>1</td>\n",
       "      <td>5</td>\n",
       "      <td>30</td>\n",
       "      <td>30</td>\n",
       "      <td>1</td>\n",
       "      <td>0</td>\n",
       "      <td>9</td>\n",
       "      <td>4</td>\n",
       "      <td>8</td>\n",
       "    </tr>\n",
       "    <tr>\n",
       "      <th>3</th>\n",
       "      <td>3</td>\n",
       "      <td>0</td>\n",
       "      <td>1</td>\n",
       "      <td>0</td>\n",
       "      <td>1</td>\n",
       "      <td>27</td>\n",
       "      <td>0</td>\n",
       "      <td>0</td>\n",
       "      <td>0</td>\n",
       "      <td>1</td>\n",
       "      <td>...</td>\n",
       "      <td>1</td>\n",
       "      <td>0</td>\n",
       "      <td>2</td>\n",
       "      <td>0</td>\n",
       "      <td>0</td>\n",
       "      <td>0</td>\n",
       "      <td>0</td>\n",
       "      <td>11</td>\n",
       "      <td>3</td>\n",
       "      <td>6</td>\n",
       "    </tr>\n",
       "    <tr>\n",
       "      <th>4</th>\n",
       "      <td>4</td>\n",
       "      <td>0</td>\n",
       "      <td>1</td>\n",
       "      <td>1</td>\n",
       "      <td>1</td>\n",
       "      <td>24</td>\n",
       "      <td>0</td>\n",
       "      <td>0</td>\n",
       "      <td>0</td>\n",
       "      <td>1</td>\n",
       "      <td>...</td>\n",
       "      <td>1</td>\n",
       "      <td>0</td>\n",
       "      <td>2</td>\n",
       "      <td>3</td>\n",
       "      <td>0</td>\n",
       "      <td>0</td>\n",
       "      <td>0</td>\n",
       "      <td>11</td>\n",
       "      <td>5</td>\n",
       "      <td>4</td>\n",
       "    </tr>\n",
       "  </tbody>\n",
       "</table>\n",
       "<p>5 rows × 23 columns</p>\n",
       "</div>"
      ],
      "text/plain": [
       "   Unnamed: 0  diabetes_012  highbp  highchol  cholcheck  bmi  smoker  stroke  \\\n",
       "0           0             0       1         1          1   40       1       0   \n",
       "1           1             0       0         0          0   25       1       0   \n",
       "2           2             0       1         1          1   28       0       0   \n",
       "3           3             0       1         0          1   27       0       0   \n",
       "4           4             0       1         1          1   24       0       0   \n",
       "\n",
       "   heartdiseaseorattack  physactivity  ...  anyhealthcare  nodocbccost  \\\n",
       "0                     0             0  ...              1            0   \n",
       "1                     0             1  ...              0            1   \n",
       "2                     0             0  ...              1            1   \n",
       "3                     0             1  ...              1            0   \n",
       "4                     0             1  ...              1            0   \n",
       "\n",
       "   genhlth  menthlth  physhlth  diffwalk  sex  age  education  income  \n",
       "0        5        18        15         1    0    9          4       3  \n",
       "1        3         0         0         0    0    7          6       1  \n",
       "2        5        30        30         1    0    9          4       8  \n",
       "3        2         0         0         0    0   11          3       6  \n",
       "4        2         3         0         0    0   11          5       4  \n",
       "\n",
       "[5 rows x 23 columns]"
      ]
     },
     "execution_count": 2,
     "metadata": {},
     "output_type": "execute_result"
    }
   ],
   "source": [
    "#Read the pre-processed dataset\n",
    "diabetes_df = pd.read_csv('./Preprocessed_diabetes_data.csv')\n",
    "diabetes_df.head()"
   ]
  },
  {
   "cell_type": "code",
   "execution_count": 3,
   "id": "325edc78-17ad-42da-97bb-156291130ab1",
   "metadata": {
    "tags": []
   },
   "outputs": [
    {
     "data": {
      "text/plain": [
       "(253680, 23)"
      ]
     },
     "execution_count": 3,
     "metadata": {},
     "output_type": "execute_result"
    }
   ],
   "source": [
    "#Obtain the dimensions (the number of rows and columns) of the DataFrame\n",
    "diabetes_df.shape"
   ]
  },
  {
   "cell_type": "code",
   "execution_count": 4,
   "id": "b8df6dff-0aef-4b85-acb1-96178be1d6e4",
   "metadata": {
    "tags": []
   },
   "outputs": [
    {
     "data": {
      "text/plain": [
       "0    213703\n",
       "1     39977\n",
       "Name: diabetes_012, dtype: int64"
      ]
     },
     "execution_count": 4,
     "metadata": {},
     "output_type": "execute_result"
    }
   ],
   "source": [
    "#Perform the value counts for the target variable to get the idea of the dataset\n",
    "diabetes_df['diabetes_012'].value_counts()"
   ]
  },
  {
   "cell_type": "code",
   "execution_count": 5,
   "id": "95b2700a-240a-4483-b60c-a8c5b487c4da",
   "metadata": {
    "tags": []
   },
   "outputs": [],
   "source": [
    "#Remove the 'Unnamed: 0' column from the DataFrame.\n",
    "#This column is added when reading a CSV file that contains an index column, and it's not needed in the analysis.\n",
    "diabetes_df = diabetes_df.drop(columns=['Unnamed: 0'])"
   ]
  },
  {
   "cell_type": "code",
   "execution_count": 6,
   "id": "d9cf67e6",
   "metadata": {
    "tags": []
   },
   "outputs": [
    {
     "data": {
      "text/html": [
       "<div>\n",
       "<style scoped>\n",
       "    .dataframe tbody tr th:only-of-type {\n",
       "        vertical-align: middle;\n",
       "    }\n",
       "\n",
       "    .dataframe tbody tr th {\n",
       "        vertical-align: top;\n",
       "    }\n",
       "\n",
       "    .dataframe thead th {\n",
       "        text-align: right;\n",
       "    }\n",
       "</style>\n",
       "<table border=\"1\" class=\"dataframe\">\n",
       "  <thead>\n",
       "    <tr style=\"text-align: right;\">\n",
       "      <th></th>\n",
       "      <th>diabetes_012</th>\n",
       "      <th>highbp</th>\n",
       "      <th>highchol</th>\n",
       "      <th>cholcheck</th>\n",
       "      <th>bmi</th>\n",
       "      <th>smoker</th>\n",
       "      <th>stroke</th>\n",
       "      <th>heartdiseaseorattack</th>\n",
       "      <th>physactivity</th>\n",
       "      <th>fruits</th>\n",
       "      <th>...</th>\n",
       "      <th>anyhealthcare</th>\n",
       "      <th>nodocbccost</th>\n",
       "      <th>genhlth</th>\n",
       "      <th>menthlth</th>\n",
       "      <th>physhlth</th>\n",
       "      <th>diffwalk</th>\n",
       "      <th>sex</th>\n",
       "      <th>age</th>\n",
       "      <th>education</th>\n",
       "      <th>income</th>\n",
       "    </tr>\n",
       "  </thead>\n",
       "  <tbody>\n",
       "    <tr>\n",
       "      <th>0</th>\n",
       "      <td>0</td>\n",
       "      <td>1</td>\n",
       "      <td>1</td>\n",
       "      <td>1</td>\n",
       "      <td>40</td>\n",
       "      <td>1</td>\n",
       "      <td>0</td>\n",
       "      <td>0</td>\n",
       "      <td>0</td>\n",
       "      <td>0</td>\n",
       "      <td>...</td>\n",
       "      <td>1</td>\n",
       "      <td>0</td>\n",
       "      <td>5</td>\n",
       "      <td>18</td>\n",
       "      <td>15</td>\n",
       "      <td>1</td>\n",
       "      <td>0</td>\n",
       "      <td>9</td>\n",
       "      <td>4</td>\n",
       "      <td>3</td>\n",
       "    </tr>\n",
       "    <tr>\n",
       "      <th>1</th>\n",
       "      <td>0</td>\n",
       "      <td>0</td>\n",
       "      <td>0</td>\n",
       "      <td>0</td>\n",
       "      <td>25</td>\n",
       "      <td>1</td>\n",
       "      <td>0</td>\n",
       "      <td>0</td>\n",
       "      <td>1</td>\n",
       "      <td>0</td>\n",
       "      <td>...</td>\n",
       "      <td>0</td>\n",
       "      <td>1</td>\n",
       "      <td>3</td>\n",
       "      <td>0</td>\n",
       "      <td>0</td>\n",
       "      <td>0</td>\n",
       "      <td>0</td>\n",
       "      <td>7</td>\n",
       "      <td>6</td>\n",
       "      <td>1</td>\n",
       "    </tr>\n",
       "    <tr>\n",
       "      <th>2</th>\n",
       "      <td>0</td>\n",
       "      <td>1</td>\n",
       "      <td>1</td>\n",
       "      <td>1</td>\n",
       "      <td>28</td>\n",
       "      <td>0</td>\n",
       "      <td>0</td>\n",
       "      <td>0</td>\n",
       "      <td>0</td>\n",
       "      <td>1</td>\n",
       "      <td>...</td>\n",
       "      <td>1</td>\n",
       "      <td>1</td>\n",
       "      <td>5</td>\n",
       "      <td>30</td>\n",
       "      <td>30</td>\n",
       "      <td>1</td>\n",
       "      <td>0</td>\n",
       "      <td>9</td>\n",
       "      <td>4</td>\n",
       "      <td>8</td>\n",
       "    </tr>\n",
       "    <tr>\n",
       "      <th>3</th>\n",
       "      <td>0</td>\n",
       "      <td>1</td>\n",
       "      <td>0</td>\n",
       "      <td>1</td>\n",
       "      <td>27</td>\n",
       "      <td>0</td>\n",
       "      <td>0</td>\n",
       "      <td>0</td>\n",
       "      <td>1</td>\n",
       "      <td>1</td>\n",
       "      <td>...</td>\n",
       "      <td>1</td>\n",
       "      <td>0</td>\n",
       "      <td>2</td>\n",
       "      <td>0</td>\n",
       "      <td>0</td>\n",
       "      <td>0</td>\n",
       "      <td>0</td>\n",
       "      <td>11</td>\n",
       "      <td>3</td>\n",
       "      <td>6</td>\n",
       "    </tr>\n",
       "    <tr>\n",
       "      <th>4</th>\n",
       "      <td>0</td>\n",
       "      <td>1</td>\n",
       "      <td>1</td>\n",
       "      <td>1</td>\n",
       "      <td>24</td>\n",
       "      <td>0</td>\n",
       "      <td>0</td>\n",
       "      <td>0</td>\n",
       "      <td>1</td>\n",
       "      <td>1</td>\n",
       "      <td>...</td>\n",
       "      <td>1</td>\n",
       "      <td>0</td>\n",
       "      <td>2</td>\n",
       "      <td>3</td>\n",
       "      <td>0</td>\n",
       "      <td>0</td>\n",
       "      <td>0</td>\n",
       "      <td>11</td>\n",
       "      <td>5</td>\n",
       "      <td>4</td>\n",
       "    </tr>\n",
       "    <tr>\n",
       "      <th>5</th>\n",
       "      <td>0</td>\n",
       "      <td>1</td>\n",
       "      <td>1</td>\n",
       "      <td>1</td>\n",
       "      <td>25</td>\n",
       "      <td>1</td>\n",
       "      <td>0</td>\n",
       "      <td>0</td>\n",
       "      <td>1</td>\n",
       "      <td>1</td>\n",
       "      <td>...</td>\n",
       "      <td>1</td>\n",
       "      <td>0</td>\n",
       "      <td>2</td>\n",
       "      <td>0</td>\n",
       "      <td>2</td>\n",
       "      <td>0</td>\n",
       "      <td>1</td>\n",
       "      <td>10</td>\n",
       "      <td>6</td>\n",
       "      <td>8</td>\n",
       "    </tr>\n",
       "    <tr>\n",
       "      <th>6</th>\n",
       "      <td>0</td>\n",
       "      <td>1</td>\n",
       "      <td>0</td>\n",
       "      <td>1</td>\n",
       "      <td>30</td>\n",
       "      <td>1</td>\n",
       "      <td>0</td>\n",
       "      <td>0</td>\n",
       "      <td>0</td>\n",
       "      <td>0</td>\n",
       "      <td>...</td>\n",
       "      <td>1</td>\n",
       "      <td>0</td>\n",
       "      <td>3</td>\n",
       "      <td>0</td>\n",
       "      <td>14</td>\n",
       "      <td>0</td>\n",
       "      <td>0</td>\n",
       "      <td>9</td>\n",
       "      <td>6</td>\n",
       "      <td>7</td>\n",
       "    </tr>\n",
       "    <tr>\n",
       "      <th>7</th>\n",
       "      <td>0</td>\n",
       "      <td>1</td>\n",
       "      <td>1</td>\n",
       "      <td>1</td>\n",
       "      <td>25</td>\n",
       "      <td>1</td>\n",
       "      <td>0</td>\n",
       "      <td>0</td>\n",
       "      <td>1</td>\n",
       "      <td>0</td>\n",
       "      <td>...</td>\n",
       "      <td>1</td>\n",
       "      <td>0</td>\n",
       "      <td>3</td>\n",
       "      <td>0</td>\n",
       "      <td>0</td>\n",
       "      <td>1</td>\n",
       "      <td>0</td>\n",
       "      <td>11</td>\n",
       "      <td>4</td>\n",
       "      <td>4</td>\n",
       "    </tr>\n",
       "    <tr>\n",
       "      <th>8</th>\n",
       "      <td>1</td>\n",
       "      <td>1</td>\n",
       "      <td>1</td>\n",
       "      <td>1</td>\n",
       "      <td>30</td>\n",
       "      <td>1</td>\n",
       "      <td>0</td>\n",
       "      <td>1</td>\n",
       "      <td>0</td>\n",
       "      <td>1</td>\n",
       "      <td>...</td>\n",
       "      <td>1</td>\n",
       "      <td>0</td>\n",
       "      <td>5</td>\n",
       "      <td>30</td>\n",
       "      <td>30</td>\n",
       "      <td>1</td>\n",
       "      <td>0</td>\n",
       "      <td>9</td>\n",
       "      <td>5</td>\n",
       "      <td>1</td>\n",
       "    </tr>\n",
       "    <tr>\n",
       "      <th>9</th>\n",
       "      <td>0</td>\n",
       "      <td>0</td>\n",
       "      <td>0</td>\n",
       "      <td>1</td>\n",
       "      <td>24</td>\n",
       "      <td>0</td>\n",
       "      <td>0</td>\n",
       "      <td>0</td>\n",
       "      <td>0</td>\n",
       "      <td>0</td>\n",
       "      <td>...</td>\n",
       "      <td>1</td>\n",
       "      <td>0</td>\n",
       "      <td>2</td>\n",
       "      <td>0</td>\n",
       "      <td>0</td>\n",
       "      <td>0</td>\n",
       "      <td>1</td>\n",
       "      <td>8</td>\n",
       "      <td>4</td>\n",
       "      <td>3</td>\n",
       "    </tr>\n",
       "  </tbody>\n",
       "</table>\n",
       "<p>10 rows × 22 columns</p>\n",
       "</div>"
      ],
      "text/plain": [
       "   diabetes_012  highbp  highchol  cholcheck  bmi  smoker  stroke  \\\n",
       "0             0       1         1          1   40       1       0   \n",
       "1             0       0         0          0   25       1       0   \n",
       "2             0       1         1          1   28       0       0   \n",
       "3             0       1         0          1   27       0       0   \n",
       "4             0       1         1          1   24       0       0   \n",
       "5             0       1         1          1   25       1       0   \n",
       "6             0       1         0          1   30       1       0   \n",
       "7             0       1         1          1   25       1       0   \n",
       "8             1       1         1          1   30       1       0   \n",
       "9             0       0         0          1   24       0       0   \n",
       "\n",
       "   heartdiseaseorattack  physactivity  fruits  ...  anyhealthcare  \\\n",
       "0                     0             0       0  ...              1   \n",
       "1                     0             1       0  ...              0   \n",
       "2                     0             0       1  ...              1   \n",
       "3                     0             1       1  ...              1   \n",
       "4                     0             1       1  ...              1   \n",
       "5                     0             1       1  ...              1   \n",
       "6                     0             0       0  ...              1   \n",
       "7                     0             1       0  ...              1   \n",
       "8                     1             0       1  ...              1   \n",
       "9                     0             0       0  ...              1   \n",
       "\n",
       "   nodocbccost  genhlth  menthlth  physhlth  diffwalk  sex  age  education  \\\n",
       "0            0        5        18        15         1    0    9          4   \n",
       "1            1        3         0         0         0    0    7          6   \n",
       "2            1        5        30        30         1    0    9          4   \n",
       "3            0        2         0         0         0    0   11          3   \n",
       "4            0        2         3         0         0    0   11          5   \n",
       "5            0        2         0         2         0    1   10          6   \n",
       "6            0        3         0        14         0    0    9          6   \n",
       "7            0        3         0         0         1    0   11          4   \n",
       "8            0        5        30        30         1    0    9          5   \n",
       "9            0        2         0         0         0    1    8          4   \n",
       "\n",
       "   income  \n",
       "0       3  \n",
       "1       1  \n",
       "2       8  \n",
       "3       6  \n",
       "4       4  \n",
       "5       8  \n",
       "6       7  \n",
       "7       4  \n",
       "8       1  \n",
       "9       3  \n",
       "\n",
       "[10 rows x 22 columns]"
      ]
     },
     "execution_count": 6,
     "metadata": {},
     "output_type": "execute_result"
    }
   ],
   "source": [
    "#Print first 10 rows of dataset\n",
    "diabetes_df.head(10)"
   ]
  },
  {
   "cell_type": "code",
   "execution_count": 7,
   "id": "0fed4cac-ea4f-4e5d-9c42-1e38740109b2",
   "metadata": {
    "tags": []
   },
   "outputs": [],
   "source": [
    "# Divide Given Columns into Features variables and target\n",
    "features=diabetes_df.drop(columns=['diabetes_012'])\n",
    "target= diabetes_df['diabetes_012']"
   ]
  },
  {
   "cell_type": "code",
   "execution_count": 8,
   "id": "83d2aa38",
   "metadata": {
    "tags": []
   },
   "outputs": [],
   "source": [
    "#Set a random state, initialize NearMiss, and under-sampling the dataset to balance class distribution\n",
    "\n",
    "random_state = 42\n",
    "nm = NearMiss()\n",
    "X_res, Y_res = nm.fit_resample(features,target)"
   ]
  },
  {
   "cell_type": "code",
   "execution_count": 9,
   "id": "a149c400",
   "metadata": {
    "tags": []
   },
   "outputs": [
    {
     "data": {
      "text/plain": [
       "(79954, 21)"
      ]
     },
     "execution_count": 9,
     "metadata": {},
     "output_type": "execute_result"
    }
   ],
   "source": [
    "#Obtain the dimensions (the number of rows and columns) of the DataFrame\n",
    "X_res.shape"
   ]
  },
  {
   "cell_type": "code",
   "execution_count": 10,
   "id": "865b0c6f",
   "metadata": {
    "tags": []
   },
   "outputs": [
    {
     "data": {
      "text/plain": [
       "0        0\n",
       "1        0\n",
       "2        0\n",
       "3        0\n",
       "4        0\n",
       "        ..\n",
       "79949    1\n",
       "79950    1\n",
       "79951    1\n",
       "79952    1\n",
       "79953    1\n",
       "Name: diabetes_012, Length: 79954, dtype: int64"
      ]
     },
     "execution_count": 10,
     "metadata": {},
     "output_type": "execute_result"
    }
   ],
   "source": [
    "Y_res"
   ]
  },
  {
   "cell_type": "code",
   "execution_count": 11,
   "id": "cfc9ad74",
   "metadata": {
    "tags": []
   },
   "outputs": [
    {
     "data": {
      "text/plain": [
       "(79954,)"
      ]
     },
     "execution_count": 11,
     "metadata": {},
     "output_type": "execute_result"
    }
   ],
   "source": [
    "#Obtain the dimensions (the number of rows and columns) of the DataFrame\n",
    "Y_res.shape"
   ]
  },
  {
   "cell_type": "code",
   "execution_count": 12,
   "id": "a3cb7fbb",
   "metadata": {
    "tags": []
   },
   "outputs": [
    {
     "data": {
      "text/html": [
       "<div>\n",
       "<style scoped>\n",
       "    .dataframe tbody tr th:only-of-type {\n",
       "        vertical-align: middle;\n",
       "    }\n",
       "\n",
       "    .dataframe tbody tr th {\n",
       "        vertical-align: top;\n",
       "    }\n",
       "\n",
       "    .dataframe thead th {\n",
       "        text-align: right;\n",
       "    }\n",
       "</style>\n",
       "<table border=\"1\" class=\"dataframe\">\n",
       "  <thead>\n",
       "    <tr style=\"text-align: right;\">\n",
       "      <th></th>\n",
       "      <th>diabetes_012</th>\n",
       "    </tr>\n",
       "  </thead>\n",
       "  <tbody>\n",
       "    <tr>\n",
       "      <th>0</th>\n",
       "      <td>0</td>\n",
       "    </tr>\n",
       "    <tr>\n",
       "      <th>1</th>\n",
       "      <td>0</td>\n",
       "    </tr>\n",
       "    <tr>\n",
       "      <th>2</th>\n",
       "      <td>0</td>\n",
       "    </tr>\n",
       "    <tr>\n",
       "      <th>3</th>\n",
       "      <td>0</td>\n",
       "    </tr>\n",
       "    <tr>\n",
       "      <th>4</th>\n",
       "      <td>0</td>\n",
       "    </tr>\n",
       "    <tr>\n",
       "      <th>...</th>\n",
       "      <td>...</td>\n",
       "    </tr>\n",
       "    <tr>\n",
       "      <th>79949</th>\n",
       "      <td>1</td>\n",
       "    </tr>\n",
       "    <tr>\n",
       "      <th>79950</th>\n",
       "      <td>1</td>\n",
       "    </tr>\n",
       "    <tr>\n",
       "      <th>79951</th>\n",
       "      <td>1</td>\n",
       "    </tr>\n",
       "    <tr>\n",
       "      <th>79952</th>\n",
       "      <td>1</td>\n",
       "    </tr>\n",
       "    <tr>\n",
       "      <th>79953</th>\n",
       "      <td>1</td>\n",
       "    </tr>\n",
       "  </tbody>\n",
       "</table>\n",
       "<p>79954 rows × 1 columns</p>\n",
       "</div>"
      ],
      "text/plain": [
       "       diabetes_012\n",
       "0                 0\n",
       "1                 0\n",
       "2                 0\n",
       "3                 0\n",
       "4                 0\n",
       "...             ...\n",
       "79949             1\n",
       "79950             1\n",
       "79951             1\n",
       "79952             1\n",
       "79953             1\n",
       "\n",
       "[79954 rows x 1 columns]"
      ]
     },
     "execution_count": 12,
     "metadata": {},
     "output_type": "execute_result"
    }
   ],
   "source": [
    "df = pd.DataFrame(Y_res, columns = ['diabetes_012'])\n",
    "df"
   ]
  },
  {
   "cell_type": "code",
   "execution_count": 88,
   "id": "312d54ac",
   "metadata": {},
   "outputs": [
    {
     "data": {
      "image/png": "[encoded data removed]",
      "text/plain": [
       "<Figure size 640x480 with 1 Axes>"
      ]
     },
     "metadata": {},
     "output_type": "display_data"
    }
   ],
   "source": [
    "# Create a count plot\n",
    "sns.countplot(x='diabetes_012', data=df)\n",
    "\n",
    "# Add labels and a title\n",
    "plt.xlabel('Diabetes')\n",
    "plt.ylabel('Count')\n",
    "plt.title('Count of Diabetes Cases')\n",
    "\n",
    "# Show the plot\n",
    "plt.show()"
   ]
  },
  {
   "cell_type": "code",
   "execution_count": 81,
   "id": "72b8a6aa",
   "metadata": {},
   "outputs": [
    {
     "data": {
      "image/png": "[encoded data removed]",
      "text/plain": [
       "<Figure size 800x600 with 1 Axes>"
      ]
     },
     "metadata": {},
     "output_type": "display_data"
    },
    {
     "data": {
      "image/png": "[encoded data removed]",
      "text/plain": [
       "<Figure size 800x600 with 1 Axes>"
      ]
     },
     "metadata": {},
     "output_type": "display_data"
    },
    {
     "data": {
      "image/png": "[encoded data removed]",
      "text/plain": [
       "<Figure size 800x600 with 1 Axes>"
      ]
     },
     "metadata": {},
     "output_type": "display_data"
    },
    {
     "data": {
      "image/png": "[encoded data removed]",
      "text/plain": [
       "<Figure size 800x600 with 1 Axes>"
      ]
     },
     "metadata": {},
     "output_type": "display_data"
    },
    {
     "data": {
      "image/png": "[encoded data removed]",
      "text/plain": [
       "<Figure size 800x600 with 1 Axes>"
      ]
     },
     "metadata": {},
     "output_type": "display_data"
    },
    {
     "data": {
      "image/png": "[encoded data removed]",
      "text/plain": [
       "<Figure size 800x600 with 1 Axes>"
      ]
     },
     "metadata": {},
     "output_type": "display_data"
    },
    {
     "data": {
      "image/png": "[encoded data removed]",
      "text/plain": [
       "<Figure size 800x600 with 1 Axes>"
      ]
     },
     "metadata": {},
     "output_type": "display_data"
    },
    {
     "data": {
      "image/png": "[encoded data removed]",
      "text/plain": [
       "<Figure size 800x600 with 1 Axes>"
      ]
     },
     "metadata": {},
     "output_type": "display_data"
    },
    {
     "data": {
      "image/png": "[encoded data removed]",
      "text/plain": [
       "<Figure size 800x600 with 1 Axes>"
      ]
     },
     "metadata": {},
     "output_type": "display_data"
    },
    {
     "data": {
      "image/png": "[encoded data removed]",
      "text/plain": [
       "<Figure size 800x600 with 1 Axes>"
      ]
     },
     "metadata": {},
     "output_type": "display_data"
    },
    {
     "data": {
      "image/png": "[encoded data removed]",
      "text/plain": [
       "<Figure size 800x600 with 1 Axes>"
      ]
     },
     "metadata": {},
     "output_type": "display_data"
    },
    {
     "data": {
      "image/png": "[encoded data removed]",
      "text/plain": [
       "<Figure size 800x600 with 1 Axes>"
      ]
     },
     "metadata": {},
     "output_type": "display_data"
    },
    {
     "data": {
      "image/png": "[encoded data removed]",
      "text/plain": [
       "<Figure size 800x600 with 1 Axes>"
      ]
     },
     "metadata": {},
     "output_type": "display_data"
    },
    {
     "data": {
      "image/png": "[encoded data removed]",
      "text/plain": [
       "<Figure size 800x600 with 1 Axes>"
      ]
     },
     "metadata": {},
     "output_type": "display_data"
    }
   ],
   "source": [
    "#EDA\n",
    "\n",
    "cat_features=['highbp','highchol','cholcheck','smoker','stroke','heartdiseaseorattack','physactivity',\n",
    "              'fruits','anyhealthcare','nodocbccost','diffwalk','sex','education','income']\n",
    "\n",
    "df_cat = X_res[cat_features]\n",
    "df_cat['diabetes'] = Y_res\n",
    "\n",
    "for col in cat_features:\n",
    "  plt.figure(figsize=(8,6))\n",
    "  sns.countplot(x = col, hue = 'diabetes', data = df_cat)"
   ]
  },
  {
   "cell_type": "code",
   "execution_count": 13,
   "id": "64967ce4-d730-4b46-93e1-b5bb778abe67",
   "metadata": {
    "tags": []
   },
   "outputs": [],
   "source": [
    "#Split the data into 70% train dataset and 30% test dataset\n",
    "X_train, X_test, y_train, y_test = train_test_split(X_res, Y_res, test_size=0.3, random_state=1)"
   ]
  },
  {
   "cell_type": "code",
   "execution_count": 14,
   "id": "179f00bc-e370-4579-a538-4b1df7da1a50",
   "metadata": {
    "tags": []
   },
   "outputs": [],
   "source": [
    "#Standardizing the training and test sets using StandardScaler for consistent feature scaling.\n",
    "\n",
    "# Create a standard scaler and fit it to the training set of predictors\n",
    "scaler = preprocessing.StandardScaler()\n",
    "\n",
    "#fit_transform method fits the scaler to the data and then transforms the data by applying the scaling\n",
    "X_train = scaler.fit_transform(X_train)\n",
    "X_test = scaler.fit_transform(X_test)\n"
   ]
  },
  {
   "cell_type": "code",
   "execution_count": null,
   "id": "25aa80b2",
   "metadata": {},
   "outputs": [],
   "source": [
    "# DECISION TREE CLASSIFIER"
   ]
  },
  {
   "cell_type": "code",
   "execution_count": 39,
   "id": "a469a564-3d5d-4535-9dc5-3e7775c8bb5d",
   "metadata": {
    "tags": []
   },
   "outputs": [],
   "source": [
    "db_clf = DecisionTreeClassifier(random_state=123)\n",
    "#Train decisionTreeClassifier\n",
    "db_clf.fit(X_train, y_train)\n",
    "#Predict the response for test data and store it in object names y_pred\n",
    "y_pred = db_clf.predict(X_test)"
   ]
  },
  {
   "cell_type": "code",
   "execution_count": 40,
   "id": "4381b750",
   "metadata": {},
   "outputs": [
    {
     "data": {
      "text/html": [
       "<div>\n",
       "<style scoped>\n",
       "    .dataframe tbody tr th:only-of-type {\n",
       "        vertical-align: middle;\n",
       "    }\n",
       "\n",
       "    .dataframe tbody tr th {\n",
       "        vertical-align: top;\n",
       "    }\n",
       "\n",
       "    .dataframe thead th {\n",
       "        text-align: right;\n",
       "    }\n",
       "</style>\n",
       "<table border=\"1\" class=\"dataframe\">\n",
       "  <thead>\n",
       "    <tr style=\"text-align: right;\">\n",
       "      <th></th>\n",
       "      <th>actual</th>\n",
       "      <th>predicted</th>\n",
       "    </tr>\n",
       "  </thead>\n",
       "  <tbody>\n",
       "    <tr>\n",
       "      <th>55952</th>\n",
       "      <td>1</td>\n",
       "      <td>0</td>\n",
       "    </tr>\n",
       "    <tr>\n",
       "      <th>41958</th>\n",
       "      <td>1</td>\n",
       "      <td>1</td>\n",
       "    </tr>\n",
       "    <tr>\n",
       "      <th>14551</th>\n",
       "      <td>0</td>\n",
       "      <td>1</td>\n",
       "    </tr>\n",
       "    <tr>\n",
       "      <th>25706</th>\n",
       "      <td>0</td>\n",
       "      <td>0</td>\n",
       "    </tr>\n",
       "    <tr>\n",
       "      <th>63488</th>\n",
       "      <td>1</td>\n",
       "      <td>1</td>\n",
       "    </tr>\n",
       "    <tr>\n",
       "      <th>53425</th>\n",
       "      <td>1</td>\n",
       "      <td>1</td>\n",
       "    </tr>\n",
       "    <tr>\n",
       "      <th>56750</th>\n",
       "      <td>1</td>\n",
       "      <td>1</td>\n",
       "    </tr>\n",
       "    <tr>\n",
       "      <th>23849</th>\n",
       "      <td>0</td>\n",
       "      <td>0</td>\n",
       "    </tr>\n",
       "    <tr>\n",
       "      <th>18226</th>\n",
       "      <td>0</td>\n",
       "      <td>0</td>\n",
       "    </tr>\n",
       "    <tr>\n",
       "      <th>62270</th>\n",
       "      <td>1</td>\n",
       "      <td>1</td>\n",
       "    </tr>\n",
       "    <tr>\n",
       "      <th>34476</th>\n",
       "      <td>0</td>\n",
       "      <td>0</td>\n",
       "    </tr>\n",
       "    <tr>\n",
       "      <th>38386</th>\n",
       "      <td>0</td>\n",
       "      <td>0</td>\n",
       "    </tr>\n",
       "    <tr>\n",
       "      <th>27896</th>\n",
       "      <td>0</td>\n",
       "      <td>0</td>\n",
       "    </tr>\n",
       "    <tr>\n",
       "      <th>44427</th>\n",
       "      <td>1</td>\n",
       "      <td>0</td>\n",
       "    </tr>\n",
       "    <tr>\n",
       "      <th>42775</th>\n",
       "      <td>1</td>\n",
       "      <td>0</td>\n",
       "    </tr>\n",
       "    <tr>\n",
       "      <th>44331</th>\n",
       "      <td>1</td>\n",
       "      <td>1</td>\n",
       "    </tr>\n",
       "    <tr>\n",
       "      <th>58601</th>\n",
       "      <td>1</td>\n",
       "      <td>1</td>\n",
       "    </tr>\n",
       "    <tr>\n",
       "      <th>75080</th>\n",
       "      <td>1</td>\n",
       "      <td>1</td>\n",
       "    </tr>\n",
       "    <tr>\n",
       "      <th>4517</th>\n",
       "      <td>0</td>\n",
       "      <td>0</td>\n",
       "    </tr>\n",
       "    <tr>\n",
       "      <th>5489</th>\n",
       "      <td>0</td>\n",
       "      <td>1</td>\n",
       "    </tr>\n",
       "  </tbody>\n",
       "</table>\n",
       "</div>"
      ],
      "text/plain": [
       "       actual  predicted\n",
       "55952       1          0\n",
       "41958       1          1\n",
       "14551       0          1\n",
       "25706       0          0\n",
       "63488       1          1\n",
       "53425       1          1\n",
       "56750       1          1\n",
       "23849       0          0\n",
       "18226       0          0\n",
       "62270       1          1\n",
       "34476       0          0\n",
       "38386       0          0\n",
       "27896       0          0\n",
       "44427       1          0\n",
       "42775       1          0\n",
       "44331       1          1\n",
       "58601       1          1\n",
       "75080       1          1\n",
       "4517        0          0\n",
       "5489        0          1"
      ]
     },
     "execution_count": 40,
     "metadata": {},
     "output_type": "execute_result"
    }
   ],
   "source": [
    "#Create a DataFrame to store and check actual and predicted values for model evaluation\n",
    "results_RS = pd.DataFrame()\n",
    "results_RS['actual'] = y_test\n",
    "results_RS['predicted'] = y_pred\n",
    "results_RS.head(20)"
   ]
  },
  {
   "cell_type": "code",
   "execution_count": 41,
   "id": "3764a4c9",
   "metadata": {},
   "outputs": [
    {
     "name": "stdout",
     "output_type": "stream",
     "text": [
      "Accuracy for Decision Tree Classifier:  0.8193187976820778\n"
     ]
    }
   ],
   "source": [
    "# Calculate the Accuracy\n",
    "print('Accuracy for Decision Tree Classifier: ',accuracy_score(y_test,y_pred))"
   ]
  },
  {
   "cell_type": "code",
   "execution_count": 42,
   "id": "68cbfa85-099d-4561-a5e3-5c88d60f2df8",
   "metadata": {
    "tags": []
   },
   "outputs": [
    {
     "name": "stdout",
     "output_type": "stream",
     "text": [
      "Precision for Decision Tree Classifier:  0.8308345610538175\n"
     ]
    }
   ],
   "source": [
    "# Calculate the Precision\n",
    "print('Precision for Decision Tree Classifier: ',precision_score(y_test,y_pred))"
   ]
  },
  {
   "cell_type": "code",
   "execution_count": null,
   "id": "e1ea2aa2",
   "metadata": {},
   "outputs": [],
   "source": [
    "# DECISION TREE CLASSIFIER USING RANDOMIZED SEARCH"
   ]
  },
  {
   "cell_type": "code",
   "execution_count": 43,
   "id": "ab3373eb-6aea-4c5d-9755-205a300a68a5",
   "metadata": {
    "tags": []
   },
   "outputs": [],
   "source": [
    "#Randomized search for tuning the hyperparameters in decision tree classifier.\n",
    "\n",
    "#find the combination of hyperparameters that yields the best performance\n",
    "param_grid = {\n",
    "    'max_depth': [2, 5, 10, 20, 30, 40],                      #The maximum depth of a decision tree\n",
    "    'min_samples_split': [2, 5, 10, 20, 40, 60, 80, 100],     #The minimum number of samples required to split internal node\n",
    "    'min_impurity_decrease': [0, 0.0005, 0.001, 0.005, 0.01]  #The minimum impurity decrease required to split internal node\n",
    "}"
   ]
  },
  {
   "cell_type": "code",
   "execution_count": 44,
   "id": "5a9daa6f-e739-4615-b8cd-2cf6d36e9c8f",
   "metadata": {
    "tags": []
   },
   "outputs": [],
   "source": [
    "#Perform hyperparameter tuning for a decision tree classifier using random search\n",
    "\n",
    "#Fit the model with above set of parameters\n",
    "dtree_default = DecisionTreeClassifier(random_state=123)\n",
    "\n",
    "best_random_search_model = RandomizedSearchCV(\n",
    "                                                estimator=DecisionTreeClassifier(random_state=1), \n",
    "                                                scoring='precision', \n",
    "                                                param_distributions=param_grid, \n",
    "                                                n_iter = 100, \n",
    "                                                cv=10, \n",
    "                                                verbose=0, \n",
    "                                                n_jobs = -1\n",
    "                                            )\n",
    "#This fits the best_random_search_model to the training data (X_train and y_train). \n",
    "_ = best_random_search_model.fit(X_train, y_train)\n"
   ]
  },
  {
   "cell_type": "code",
   "execution_count": 45,
   "id": "6ffe8aab-ae35-47f2-93dd-0fc53c0f0960",
   "metadata": {
    "tags": []
   },
   "outputs": [
    {
     "name": "stdout",
     "output_type": "stream",
     "text": [
      "Best parameters using Ranomized Search for Decision Tree Classifier:  {'min_samples_split': 5, 'min_impurity_decrease': 0.01, 'max_depth': 10}\n"
     ]
    }
   ],
   "source": [
    "# Best parameters found using randomized search for the decision tree model\n",
    "\n",
    "random_search_best_params = best_random_search_model.best_params_\n",
    "print('Best parameters using Ranomized Search for Decision Tree Classifier: ', random_search_best_params)"
   ]
  },
  {
   "cell_type": "code",
   "execution_count": 46,
   "id": "a938df6f-0050-46ea-9d0a-c3160065d3a3",
   "metadata": {
    "tags": []
   },
   "outputs": [
    {
     "data": {
      "text/html": [
       "<div>\n",
       "<style scoped>\n",
       "    .dataframe tbody tr th:only-of-type {\n",
       "        vertical-align: middle;\n",
       "    }\n",
       "\n",
       "    .dataframe tbody tr th {\n",
       "        vertical-align: top;\n",
       "    }\n",
       "\n",
       "    .dataframe thead th {\n",
       "        text-align: right;\n",
       "    }\n",
       "</style>\n",
       "<table border=\"1\" class=\"dataframe\">\n",
       "  <thead>\n",
       "    <tr style=\"text-align: right;\">\n",
       "      <th></th>\n",
       "      <th>actual</th>\n",
       "      <th>predicted</th>\n",
       "    </tr>\n",
       "  </thead>\n",
       "  <tbody>\n",
       "    <tr>\n",
       "      <th>55952</th>\n",
       "      <td>1</td>\n",
       "      <td>0</td>\n",
       "    </tr>\n",
       "    <tr>\n",
       "      <th>41958</th>\n",
       "      <td>1</td>\n",
       "      <td>0</td>\n",
       "    </tr>\n",
       "    <tr>\n",
       "      <th>14551</th>\n",
       "      <td>0</td>\n",
       "      <td>1</td>\n",
       "    </tr>\n",
       "    <tr>\n",
       "      <th>25706</th>\n",
       "      <td>0</td>\n",
       "      <td>0</td>\n",
       "    </tr>\n",
       "    <tr>\n",
       "      <th>63488</th>\n",
       "      <td>1</td>\n",
       "      <td>1</td>\n",
       "    </tr>\n",
       "    <tr>\n",
       "      <th>53425</th>\n",
       "      <td>1</td>\n",
       "      <td>1</td>\n",
       "    </tr>\n",
       "    <tr>\n",
       "      <th>56750</th>\n",
       "      <td>1</td>\n",
       "      <td>1</td>\n",
       "    </tr>\n",
       "    <tr>\n",
       "      <th>23849</th>\n",
       "      <td>0</td>\n",
       "      <td>0</td>\n",
       "    </tr>\n",
       "    <tr>\n",
       "      <th>18226</th>\n",
       "      <td>0</td>\n",
       "      <td>0</td>\n",
       "    </tr>\n",
       "    <tr>\n",
       "      <th>62270</th>\n",
       "      <td>1</td>\n",
       "      <td>1</td>\n",
       "    </tr>\n",
       "    <tr>\n",
       "      <th>34476</th>\n",
       "      <td>0</td>\n",
       "      <td>0</td>\n",
       "    </tr>\n",
       "    <tr>\n",
       "      <th>38386</th>\n",
       "      <td>0</td>\n",
       "      <td>0</td>\n",
       "    </tr>\n",
       "    <tr>\n",
       "      <th>27896</th>\n",
       "      <td>0</td>\n",
       "      <td>0</td>\n",
       "    </tr>\n",
       "    <tr>\n",
       "      <th>44427</th>\n",
       "      <td>1</td>\n",
       "      <td>0</td>\n",
       "    </tr>\n",
       "    <tr>\n",
       "      <th>42775</th>\n",
       "      <td>1</td>\n",
       "      <td>0</td>\n",
       "    </tr>\n",
       "    <tr>\n",
       "      <th>44331</th>\n",
       "      <td>1</td>\n",
       "      <td>0</td>\n",
       "    </tr>\n",
       "    <tr>\n",
       "      <th>58601</th>\n",
       "      <td>1</td>\n",
       "      <td>0</td>\n",
       "    </tr>\n",
       "    <tr>\n",
       "      <th>75080</th>\n",
       "      <td>1</td>\n",
       "      <td>1</td>\n",
       "    </tr>\n",
       "    <tr>\n",
       "      <th>4517</th>\n",
       "      <td>0</td>\n",
       "      <td>0</td>\n",
       "    </tr>\n",
       "    <tr>\n",
       "      <th>5489</th>\n",
       "      <td>0</td>\n",
       "      <td>0</td>\n",
       "    </tr>\n",
       "  </tbody>\n",
       "</table>\n",
       "</div>"
      ],
      "text/plain": [
       "       actual  predicted\n",
       "55952       1          0\n",
       "41958       1          0\n",
       "14551       0          1\n",
       "25706       0          0\n",
       "63488       1          1\n",
       "53425       1          1\n",
       "56750       1          1\n",
       "23849       0          0\n",
       "18226       0          0\n",
       "62270       1          1\n",
       "34476       0          0\n",
       "38386       0          0\n",
       "27896       0          0\n",
       "44427       1          0\n",
       "42775       1          0\n",
       "44331       1          0\n",
       "58601       1          0\n",
       "75080       1          1\n",
       "4517        0          0\n",
       "5489        0          0"
      ]
     },
     "execution_count": 46,
     "metadata": {},
     "output_type": "execute_result"
    }
   ],
   "source": [
    "#Create a DataFrame to store and check actual and predicted values for model evaluation\n",
    "\n",
    "results_RS = pd.DataFrame()\n",
    "results_RS['actual'] = y_test\n",
    "results_RS['predicted'] = best_random_search_model.predict(X_test)\n",
    "results_RS.head(20)"
   ]
  },
  {
   "cell_type": "code",
   "execution_count": 76,
   "id": "a0350ef6-b132-4c59-ba82-a0827817016a",
   "metadata": {
    "tags": []
   },
   "outputs": [
    {
     "name": "stdout",
     "output_type": "stream",
     "text": [
      "Scores for Decision Tree Classifier using randomized Search\n",
      "Accuracy Score:   0.793263017467795\n",
      "Precision Score:  0.9405480140774258\n",
      "Recall Score:     0.6251984292756287\n",
      "F1 Score:         0.751116687578419\n",
      "Decision Tree Classifier Confusion Matrix:\n",
      "[[11545   473]\n",
      " [ 4486  7483]]\n"
     ]
    },
    {
     "data": {
      "image/png": "[encoded data removed]",
      "text/plain": [
       "<Figure size 640x480 with 2 Axes>"
      ]
     },
     "metadata": {},
     "output_type": "display_data"
    }
   ],
   "source": [
    "#Check the accuracy, recall, precision and f1 score for the model when used randomized search\n",
    "\n",
    "y_pred = best_random_search_model.predict(X_test)\n",
    "print(\"Scores for Decision Tree Classifier using randomized Search\")\n",
    "print(f\"{'Accuracy Score: ':18}{accuracy_score(y_test, y_pred)}\")\n",
    "print(f\"{'Precision Score: ':18}{precision_score(y_test, y_pred)}\")\n",
    "print(f\"{'Recall Score:':18}{recall_score(y_test, y_pred)}\")\n",
    "print(f\"{'F1 Score: ':18}{f1_score(y_test, y_pred)}\")\n",
    "\n",
    "print('Decision Tree Classifier Confusion Matrix:')\n",
    "print(confusion_matrix(y_test, y_pred))\n",
    "sns.heatmap(confusion_matrix(y_test, y_pred), annot=True, fmt='d', cmap='Blues')\n",
    "plt.xlabel('Predicted')\n",
    "plt.ylabel('Actual')\n",
    "plt.xticks([0.5, 1.5], ['No Diabetes', 'Diabetes'])\n",
    "plt.yticks([0.5, 1.5], ['No Diabetes', 'Diabetes'])\n",
    "plt.title('Confusion matrix')\n",
    "plt.show()\n"
   ]
  },
  {
   "cell_type": "code",
   "execution_count": null,
   "id": "7a87fcb4",
   "metadata": {},
   "outputs": [],
   "source": [
    "# DECISION TREE CLASSIFIER USING GRID SEARCH"
   ]
  },
  {
   "cell_type": "code",
   "execution_count": 57,
   "id": "4163264f-39a1-4088-a588-e45a0cbd419a",
   "metadata": {
    "tags": []
   },
   "outputs": [],
   "source": [
    "# Grid search keeping the above selected parameters from random search as base parameters and checking the \n",
    "#appropriate parameters in its close promixity.\n",
    "\n",
    "\n",
    "plus_minus = 5  #used for giving the rangeto values.\n",
    "\n",
    "param_grid_GS = { \n",
    "    'max_depth': [x for x in range(random_search_best_params['max_depth']-plus_minus , random_search_best_params['max_depth']+plus_minus,2) if x > 0],\n",
    "                'min_samples_split': [x for x in range(random_search_best_params['min_samples_split']-plus_minus, random_search_best_params['min_samples_split']+plus_minus,2) if x >= 2],       \n",
    "                'min_impurity_decrease': [x for x in np.arange(random_search_best_params['min_impurity_decrease']-0.001, random_search_best_params['min_impurity_decrease']+0.001,.0001).round(5) if x >= 0.000]\n",
    "              }\n",
    "\n",
    "best_grid_search_model = GridSearchCV(\n",
    "                                        estimator=DecisionTreeClassifier(random_state=1), \n",
    "                                        scoring='precision', \n",
    "                                        param_grid=param_grid_GS, \n",
    "                                        cv=10, \n",
    "                                        verbose=0,  \n",
    "                                        n_jobs = -1\n",
    "                                      )\n",
    "_ = best_grid_search_model.fit(X_train, y_train)\n",
    "\n"
   ]
  },
  {
   "cell_type": "code",
   "execution_count": 204,
   "id": "ebbfd6f3-a3b1-4195-b158-2a94262e82fd",
   "metadata": {
    "tags": []
   },
   "outputs": [
    {
     "name": "stdout",
     "output_type": "stream",
     "text": [
      "Best parameters found using Grid Search for Decision Tree Classifier:  {'max_depth': 5, 'min_impurity_decrease': 0.009, 'min_samples_split': 3}\n"
     ]
    }
   ],
   "source": [
    "# List of best parameters found with grid search on the base parameters by randomized search\n",
    "grid_search_best_params = best_grid_search_model.best_params_\n",
    "print('Best parameters found using Grid Search for Decision Tree Classifier: ', grid_search_best_params)"
   ]
  },
  {
   "cell_type": "code",
   "execution_count": 205,
   "id": "0fac392e-be30-45de-a9ab-89ba37aa5597",
   "metadata": {
    "tags": []
   },
   "outputs": [
    {
     "data": {
      "text/html": [
       "<div>\n",
       "<style scoped>\n",
       "    .dataframe tbody tr th:only-of-type {\n",
       "        vertical-align: middle;\n",
       "    }\n",
       "\n",
       "    .dataframe tbody tr th {\n",
       "        vertical-align: top;\n",
       "    }\n",
       "\n",
       "    .dataframe thead th {\n",
       "        text-align: right;\n",
       "    }\n",
       "</style>\n",
       "<table border=\"1\" class=\"dataframe\">\n",
       "  <thead>\n",
       "    <tr style=\"text-align: right;\">\n",
       "      <th></th>\n",
       "      <th>actual</th>\n",
       "      <th>predicted</th>\n",
       "    </tr>\n",
       "  </thead>\n",
       "  <tbody>\n",
       "    <tr>\n",
       "      <th>55952</th>\n",
       "      <td>1</td>\n",
       "      <td>0</td>\n",
       "    </tr>\n",
       "    <tr>\n",
       "      <th>41958</th>\n",
       "      <td>1</td>\n",
       "      <td>0</td>\n",
       "    </tr>\n",
       "    <tr>\n",
       "      <th>14551</th>\n",
       "      <td>0</td>\n",
       "      <td>1</td>\n",
       "    </tr>\n",
       "    <tr>\n",
       "      <th>25706</th>\n",
       "      <td>0</td>\n",
       "      <td>0</td>\n",
       "    </tr>\n",
       "    <tr>\n",
       "      <th>63488</th>\n",
       "      <td>1</td>\n",
       "      <td>1</td>\n",
       "    </tr>\n",
       "    <tr>\n",
       "      <th>53425</th>\n",
       "      <td>1</td>\n",
       "      <td>1</td>\n",
       "    </tr>\n",
       "    <tr>\n",
       "      <th>56750</th>\n",
       "      <td>1</td>\n",
       "      <td>1</td>\n",
       "    </tr>\n",
       "    <tr>\n",
       "      <th>23849</th>\n",
       "      <td>0</td>\n",
       "      <td>0</td>\n",
       "    </tr>\n",
       "    <tr>\n",
       "      <th>18226</th>\n",
       "      <td>0</td>\n",
       "      <td>0</td>\n",
       "    </tr>\n",
       "    <tr>\n",
       "      <th>62270</th>\n",
       "      <td>1</td>\n",
       "      <td>1</td>\n",
       "    </tr>\n",
       "    <tr>\n",
       "      <th>34476</th>\n",
       "      <td>0</td>\n",
       "      <td>0</td>\n",
       "    </tr>\n",
       "    <tr>\n",
       "      <th>38386</th>\n",
       "      <td>0</td>\n",
       "      <td>0</td>\n",
       "    </tr>\n",
       "    <tr>\n",
       "      <th>27896</th>\n",
       "      <td>0</td>\n",
       "      <td>0</td>\n",
       "    </tr>\n",
       "    <tr>\n",
       "      <th>44427</th>\n",
       "      <td>1</td>\n",
       "      <td>0</td>\n",
       "    </tr>\n",
       "    <tr>\n",
       "      <th>42775</th>\n",
       "      <td>1</td>\n",
       "      <td>0</td>\n",
       "    </tr>\n",
       "    <tr>\n",
       "      <th>44331</th>\n",
       "      <td>1</td>\n",
       "      <td>0</td>\n",
       "    </tr>\n",
       "    <tr>\n",
       "      <th>58601</th>\n",
       "      <td>1</td>\n",
       "      <td>1</td>\n",
       "    </tr>\n",
       "    <tr>\n",
       "      <th>75080</th>\n",
       "      <td>1</td>\n",
       "      <td>1</td>\n",
       "    </tr>\n",
       "    <tr>\n",
       "      <th>4517</th>\n",
       "      <td>0</td>\n",
       "      <td>0</td>\n",
       "    </tr>\n",
       "    <tr>\n",
       "      <th>5489</th>\n",
       "      <td>0</td>\n",
       "      <td>0</td>\n",
       "    </tr>\n",
       "  </tbody>\n",
       "</table>\n",
       "</div>"
      ],
      "text/plain": [
       "       actual  predicted\n",
       "55952       1          0\n",
       "41958       1          0\n",
       "14551       0          1\n",
       "25706       0          0\n",
       "63488       1          1\n",
       "53425       1          1\n",
       "56750       1          1\n",
       "23849       0          0\n",
       "18226       0          0\n",
       "62270       1          1\n",
       "34476       0          0\n",
       "38386       0          0\n",
       "27896       0          0\n",
       "44427       1          0\n",
       "42775       1          0\n",
       "44331       1          0\n",
       "58601       1          1\n",
       "75080       1          1\n",
       "4517        0          0\n",
       "5489        0          0"
      ]
     },
     "execution_count": 205,
     "metadata": {},
     "output_type": "execute_result"
    }
   ],
   "source": [
    "#Check the actual and predicted values side by side to get a better idea.\n",
    "results_GS = pd.DataFrame()\n",
    "results_GS['actual'] = y_test\n",
    "results_GS['predicted'] = best_grid_search_model.predict(X_test)\n",
    "results_GS.head(20)"
   ]
  },
  {
   "cell_type": "code",
   "execution_count": 206,
   "id": "34ebc877-5e07-437d-b69a-96e768f3cf81",
   "metadata": {
    "tags": []
   },
   "outputs": [
    {
     "name": "stdout",
     "output_type": "stream",
     "text": [
      "Scores for Decision Tree Classifier using Grid Search\n",
      "Accuracy Score:   0.8678867720015008\n",
      "Precision Score:  0.9127579737335835\n",
      "Recall Score:     0.8129334113125575\n",
      "F1 Score:         0.8599584603826947\n"
     ]
    }
   ],
   "source": [
    "# Check the accuracy, recall, precision and f1 score for the Decision Tree model after using Grid search.\n",
    "\n",
    "print(\"Scores for Decision Tree Classifier using Grid Search\")\n",
    "print(f\"{'Accuracy Score: ':18}{accuracy_score(y_test, y_pred_Grid)}\")\n",
    "print(f\"{'Precision Score: ':18}{precision_score(y_test, y_pred_Grid)}\")\n",
    "print(f\"{'Recall Score:':18}{recall_score(y_test, y_pred_Grid)}\")\n",
    "print(f\"{'F1 Score: ':18}{f1_score(y_test, y_pred_Grid)}\")"
   ]
  },
  {
   "cell_type": "code",
   "execution_count": null,
   "id": "554b3c85",
   "metadata": {},
   "outputs": [],
   "source": [
    "#LOGISTIC REGRESSION USING RANDOMIZED SEARCH"
   ]
  },
  {
   "cell_type": "code",
   "execution_count": 49,
   "id": "9b0342a8-77e4-401a-88fc-9c6c9bfed418",
   "metadata": {
    "tags": []
   },
   "outputs": [],
   "source": [
    "\n",
    "param_grid_log={'solver':['lbfgs','liblinear','saga'],\n",
    "                'max_iter':[5000,6000,7000,10000]\n",
    "                }"
   ]
  },
  {
   "cell_type": "code",
   "execution_count": 50,
   "id": "862b469b-f1db-4f40-8cf1-f0eb3edf594f",
   "metadata": {
    "tags": []
   },
   "outputs": [],
   "source": [
    "#Hyperparameter tuning of a logistic regression model using randomized search\n",
    "\n",
    "lin_model = linear_model.LogisticRegression(random_state=42)\n",
    "best_log_Reg= RandomizedSearchCV(\n",
    "                                    estimator=linear_model.LogisticRegression(random_state=42),\n",
    "                                    scoring='precision', \n",
    "                                    param_distributions=param_grid_log, \n",
    "                                    n_iter=10,\n",
    "                                    cv=10, \n",
    "                                    verbose=0, \n",
    "                                    n_jobs = -1\n",
    "                                    )\n",
    "\n",
    "_=best_log_Reg.fit(X_train, y_train)"
   ]
  },
  {
   "cell_type": "code",
   "execution_count": 51,
   "id": "d7a56ed6",
   "metadata": {},
   "outputs": [
    {
     "data": {
      "text/html": [
       "<div>\n",
       "<style scoped>\n",
       "    .dataframe tbody tr th:only-of-type {\n",
       "        vertical-align: middle;\n",
       "    }\n",
       "\n",
       "    .dataframe tbody tr th {\n",
       "        vertical-align: top;\n",
       "    }\n",
       "\n",
       "    .dataframe thead th {\n",
       "        text-align: right;\n",
       "    }\n",
       "</style>\n",
       "<table border=\"1\" class=\"dataframe\">\n",
       "  <thead>\n",
       "    <tr style=\"text-align: right;\">\n",
       "      <th></th>\n",
       "      <th>actual</th>\n",
       "      <th>predicted</th>\n",
       "    </tr>\n",
       "  </thead>\n",
       "  <tbody>\n",
       "    <tr>\n",
       "      <th>55952</th>\n",
       "      <td>1</td>\n",
       "      <td>0</td>\n",
       "    </tr>\n",
       "    <tr>\n",
       "      <th>41958</th>\n",
       "      <td>1</td>\n",
       "      <td>0</td>\n",
       "    </tr>\n",
       "    <tr>\n",
       "      <th>14551</th>\n",
       "      <td>0</td>\n",
       "      <td>0</td>\n",
       "    </tr>\n",
       "    <tr>\n",
       "      <th>25706</th>\n",
       "      <td>0</td>\n",
       "      <td>0</td>\n",
       "    </tr>\n",
       "    <tr>\n",
       "      <th>63488</th>\n",
       "      <td>1</td>\n",
       "      <td>1</td>\n",
       "    </tr>\n",
       "    <tr>\n",
       "      <th>53425</th>\n",
       "      <td>1</td>\n",
       "      <td>1</td>\n",
       "    </tr>\n",
       "    <tr>\n",
       "      <th>56750</th>\n",
       "      <td>1</td>\n",
       "      <td>1</td>\n",
       "    </tr>\n",
       "    <tr>\n",
       "      <th>23849</th>\n",
       "      <td>0</td>\n",
       "      <td>0</td>\n",
       "    </tr>\n",
       "    <tr>\n",
       "      <th>18226</th>\n",
       "      <td>0</td>\n",
       "      <td>0</td>\n",
       "    </tr>\n",
       "    <tr>\n",
       "      <th>62270</th>\n",
       "      <td>1</td>\n",
       "      <td>1</td>\n",
       "    </tr>\n",
       "    <tr>\n",
       "      <th>34476</th>\n",
       "      <td>0</td>\n",
       "      <td>0</td>\n",
       "    </tr>\n",
       "    <tr>\n",
       "      <th>38386</th>\n",
       "      <td>0</td>\n",
       "      <td>0</td>\n",
       "    </tr>\n",
       "    <tr>\n",
       "      <th>27896</th>\n",
       "      <td>0</td>\n",
       "      <td>0</td>\n",
       "    </tr>\n",
       "    <tr>\n",
       "      <th>44427</th>\n",
       "      <td>1</td>\n",
       "      <td>0</td>\n",
       "    </tr>\n",
       "    <tr>\n",
       "      <th>42775</th>\n",
       "      <td>1</td>\n",
       "      <td>0</td>\n",
       "    </tr>\n",
       "    <tr>\n",
       "      <th>44331</th>\n",
       "      <td>1</td>\n",
       "      <td>1</td>\n",
       "    </tr>\n",
       "    <tr>\n",
       "      <th>58601</th>\n",
       "      <td>1</td>\n",
       "      <td>1</td>\n",
       "    </tr>\n",
       "    <tr>\n",
       "      <th>75080</th>\n",
       "      <td>1</td>\n",
       "      <td>1</td>\n",
       "    </tr>\n",
       "    <tr>\n",
       "      <th>4517</th>\n",
       "      <td>0</td>\n",
       "      <td>0</td>\n",
       "    </tr>\n",
       "    <tr>\n",
       "      <th>5489</th>\n",
       "      <td>0</td>\n",
       "      <td>0</td>\n",
       "    </tr>\n",
       "  </tbody>\n",
       "</table>\n",
       "</div>"
      ],
      "text/plain": [
       "       actual  predicted\n",
       "55952       1          0\n",
       "41958       1          0\n",
       "14551       0          0\n",
       "25706       0          0\n",
       "63488       1          1\n",
       "53425       1          1\n",
       "56750       1          1\n",
       "23849       0          0\n",
       "18226       0          0\n",
       "62270       1          1\n",
       "34476       0          0\n",
       "38386       0          0\n",
       "27896       0          0\n",
       "44427       1          0\n",
       "42775       1          0\n",
       "44331       1          1\n",
       "58601       1          1\n",
       "75080       1          1\n",
       "4517        0          0\n",
       "5489        0          0"
      ]
     },
     "execution_count": 51,
     "metadata": {},
     "output_type": "execute_result"
    }
   ],
   "source": [
    "#Check the actual and predicted values side by side to get a better idea.\n",
    "\n",
    "y_pred_log_reg = best_log_Reg.predict(X_test)\n",
    "results_lr = pd.DataFrame()\n",
    "results_lr['actual'] = y_test\n",
    "results_lr['predicted'] = y_pred_log_reg\n",
    "results_lr.head(20)"
   ]
  },
  {
   "cell_type": "code",
   "execution_count": 52,
   "id": "1fce194f-83b9-482a-b501-fff8446343c8",
   "metadata": {
    "tags": []
   },
   "outputs": [
    {
     "name": "stdout",
     "output_type": "stream",
     "text": [
      "Best parameters found:  {'solver': 'saga', 'max_iter': 10000}\n"
     ]
    }
   ],
   "source": [
    "# List of best parameters found using Randomized Search for Logistic Regression.\n",
    "\n",
    "random_search_best_params_lr = best_log_Reg.best_params_\n",
    "print('Best parameters found: ', random_search_best_params_lr)"
   ]
  },
  {
   "cell_type": "code",
   "execution_count": 53,
   "id": "ab4bb5ad-6e2d-4e6a-b44d-f909af3119c9",
   "metadata": {
    "tags": []
   },
   "outputs": [
    {
     "name": "stdout",
     "output_type": "stream",
     "text": [
      "Scores for Logistic Regression using randomized Search\n",
      "Logistic Regression Accuracy Score: 0.8683870429816151\n",
      "Logistic Regression Precision Score: 0.908795694934125\n",
      "Logistic Regression Recall Score:0.8183641072771326\n",
      "Logistic Regression F1 Score: 0.8612124675781421\n",
      "Logistic Regression Confusion Matrix:\n",
      "[[11035   983]\n",
      " [ 2174  9795]]\n"
     ]
    }
   ],
   "source": [
    "# Check the accuracy, recall, precision and f1 score for the model after using Random search.\n",
    "\n",
    "print(\"Scores for Logistic Regression using randomized Search\")\n",
    "print(f\"{'Logistic Regression Accuracy Score: ':18}{accuracy_score(y_test, y_pred_log_reg)}\")\n",
    "print(f\"{'Logistic Regression Precision Score: ':18}{precision_score(y_test, y_pred_log_reg)}\")\n",
    "print(f\"{'Logistic Regression Recall Score:':18}{recall_score(y_test, y_pred_log_reg)}\")\n",
    "print(f\"{'Logistic Regression F1 Score: ':18}{f1_score(y_test, y_pred_log_reg)}\")\n",
    "print('Logistic Regression Confusion Matrix:')\n",
    "print(confusion_matrix(y_test, y_pred_log_reg))"
   ]
  },
  {
   "cell_type": "code",
   "execution_count": null,
   "id": "02ca2640",
   "metadata": {},
   "outputs": [],
   "source": [
    "#LOGISTIC REGRESSION USING GRID SEARCH"
   ]
  },
  {
   "cell_type": "code",
   "execution_count": 60,
   "id": "f86c7ded-9724-4df4-a919-e34c8043d35f",
   "metadata": {
    "tags": []
   },
   "outputs": [],
   "source": [
    "param_grid_GS_lr = { 'solver':['lbfgs','liblinear','saga'],\n",
    "                      'max_iter':[x for x in range(random_search_best_params_lr['max_iter']-100 , random_search_best_params_lr['max_iter']+100,100) if x > 0],\n",
    "                    }\n",
    "\n",
    "best_grid_search_lrmodel = GridSearchCV(\n",
    "                                        estimator=linear_model.LogisticRegression(random_state=42), \n",
    "                                        scoring='precision', \n",
    "                                        param_grid=param_grid_GS_lr, \n",
    "                                        cv=10, \n",
    "                                        verbose=0,  \n",
    "                                        n_jobs = -1\n",
    "                                      )\n",
    "_ = best_grid_search_lrmodel.fit(X_train, y_train)\n"
   ]
  },
  {
   "cell_type": "code",
   "execution_count": 61,
   "id": "afecf95d",
   "metadata": {},
   "outputs": [
    {
     "data": {
      "text/html": [
       "<div>\n",
       "<style scoped>\n",
       "    .dataframe tbody tr th:only-of-type {\n",
       "        vertical-align: middle;\n",
       "    }\n",
       "\n",
       "    .dataframe tbody tr th {\n",
       "        vertical-align: top;\n",
       "    }\n",
       "\n",
       "    .dataframe thead th {\n",
       "        text-align: right;\n",
       "    }\n",
       "</style>\n",
       "<table border=\"1\" class=\"dataframe\">\n",
       "  <thead>\n",
       "    <tr style=\"text-align: right;\">\n",
       "      <th></th>\n",
       "      <th>actual</th>\n",
       "      <th>predicted</th>\n",
       "    </tr>\n",
       "  </thead>\n",
       "  <tbody>\n",
       "    <tr>\n",
       "      <th>55952</th>\n",
       "      <td>1</td>\n",
       "      <td>0</td>\n",
       "    </tr>\n",
       "    <tr>\n",
       "      <th>41958</th>\n",
       "      <td>1</td>\n",
       "      <td>0</td>\n",
       "    </tr>\n",
       "    <tr>\n",
       "      <th>14551</th>\n",
       "      <td>0</td>\n",
       "      <td>0</td>\n",
       "    </tr>\n",
       "    <tr>\n",
       "      <th>25706</th>\n",
       "      <td>0</td>\n",
       "      <td>0</td>\n",
       "    </tr>\n",
       "    <tr>\n",
       "      <th>63488</th>\n",
       "      <td>1</td>\n",
       "      <td>1</td>\n",
       "    </tr>\n",
       "    <tr>\n",
       "      <th>53425</th>\n",
       "      <td>1</td>\n",
       "      <td>1</td>\n",
       "    </tr>\n",
       "    <tr>\n",
       "      <th>56750</th>\n",
       "      <td>1</td>\n",
       "      <td>1</td>\n",
       "    </tr>\n",
       "    <tr>\n",
       "      <th>23849</th>\n",
       "      <td>0</td>\n",
       "      <td>0</td>\n",
       "    </tr>\n",
       "    <tr>\n",
       "      <th>18226</th>\n",
       "      <td>0</td>\n",
       "      <td>0</td>\n",
       "    </tr>\n",
       "    <tr>\n",
       "      <th>62270</th>\n",
       "      <td>1</td>\n",
       "      <td>1</td>\n",
       "    </tr>\n",
       "    <tr>\n",
       "      <th>34476</th>\n",
       "      <td>0</td>\n",
       "      <td>0</td>\n",
       "    </tr>\n",
       "    <tr>\n",
       "      <th>38386</th>\n",
       "      <td>0</td>\n",
       "      <td>0</td>\n",
       "    </tr>\n",
       "    <tr>\n",
       "      <th>27896</th>\n",
       "      <td>0</td>\n",
       "      <td>0</td>\n",
       "    </tr>\n",
       "    <tr>\n",
       "      <th>44427</th>\n",
       "      <td>1</td>\n",
       "      <td>0</td>\n",
       "    </tr>\n",
       "    <tr>\n",
       "      <th>42775</th>\n",
       "      <td>1</td>\n",
       "      <td>0</td>\n",
       "    </tr>\n",
       "    <tr>\n",
       "      <th>44331</th>\n",
       "      <td>1</td>\n",
       "      <td>1</td>\n",
       "    </tr>\n",
       "    <tr>\n",
       "      <th>58601</th>\n",
       "      <td>1</td>\n",
       "      <td>1</td>\n",
       "    </tr>\n",
       "    <tr>\n",
       "      <th>75080</th>\n",
       "      <td>1</td>\n",
       "      <td>1</td>\n",
       "    </tr>\n",
       "    <tr>\n",
       "      <th>4517</th>\n",
       "      <td>0</td>\n",
       "      <td>0</td>\n",
       "    </tr>\n",
       "    <tr>\n",
       "      <th>5489</th>\n",
       "      <td>0</td>\n",
       "      <td>0</td>\n",
       "    </tr>\n",
       "  </tbody>\n",
       "</table>\n",
       "</div>"
      ],
      "text/plain": [
       "       actual  predicted\n",
       "55952       1          0\n",
       "41958       1          0\n",
       "14551       0          0\n",
       "25706       0          0\n",
       "63488       1          1\n",
       "53425       1          1\n",
       "56750       1          1\n",
       "23849       0          0\n",
       "18226       0          0\n",
       "62270       1          1\n",
       "34476       0          0\n",
       "38386       0          0\n",
       "27896       0          0\n",
       "44427       1          0\n",
       "42775       1          0\n",
       "44331       1          1\n",
       "58601       1          1\n",
       "75080       1          1\n",
       "4517        0          0\n",
       "5489        0          0"
      ]
     },
     "execution_count": 61,
     "metadata": {},
     "output_type": "execute_result"
    }
   ],
   "source": [
    " #Check the actual and predicted values side by side to get a better idea.                          \n",
    "                           \n",
    "y_pred_lr_GS = best_grid_search_lrmodel.predict(X_test)\n",
    "results_CLF_GS = pd.DataFrame()\n",
    "results_CLF_GS['actual'] = y_test\n",
    "results_CLF_GS['predicted'] = y_pred_lr_GS\n",
    "results_CLF_GS.head(20)"
   ]
  },
  {
   "cell_type": "code",
   "execution_count": 62,
   "id": "b93c3025-1cf9-4c19-9e42-0f7906abc54e",
   "metadata": {
    "tags": []
   },
   "outputs": [
    {
     "name": "stdout",
     "output_type": "stream",
     "text": [
      "Best parameters found:  {'max_iter': 9900, 'solver': 'lbfgs'}\n"
     ]
    }
   ],
   "source": [
    "# List of best parameters found using Grid Search for Logistic Regression.\n",
    "\n",
    "grid_search_best_params_lr = best_grid_search_lrmodel.best_params_\n",
    "print('Best parameters found: ', grid_search_best_params_lr)"
   ]
  },
  {
   "cell_type": "code",
   "execution_count": 63,
   "id": "f70c23fd-b4e3-4b0b-8c39-95706a0b94b0",
   "metadata": {
    "tags": []
   },
   "outputs": [
    {
     "name": "stdout",
     "output_type": "stream",
     "text": [
      "Scores for Logistic Regression using Grid Search\n",
      "Logistic Regression Accuracy Score: 0.8683870429816151\n",
      "Logistic Regression Precision Score: 0.908795694934125\n",
      "Logistic Regression Recall Score:0.8183641072771326\n",
      "Logistic Regression F1 Score: 0.8612124675781421\n",
      "Logistic Regression Confusion Matrix:\n",
      "[[11035   983]\n",
      " [ 2174  9795]]\n"
     ]
    }
   ],
   "source": [
    "# Check the accuracy, recall, precision and f1 score for the model after using Grid search.\n",
    "\n",
    "print(\"Scores for Logistic Regression using Grid Search\")\n",
    "print(f\"{'Logistic Regression Accuracy Score: ':18}{accuracy_score(y_test, y_pred_lr_GS)}\")\n",
    "print(f\"{'Logistic Regression Precision Score: ':18}{precision_score(y_test, y_pred_lr_GS)}\")\n",
    "print(f\"{'Logistic Regression Recall Score:':18}{recall_score(y_test, y_pred_lr_GS)}\")\n",
    "print(f\"{'Logistic Regression F1 Score: ':18}{f1_score(y_test, y_pred_lr_GS)}\")\n",
    "print('Logistic Regression Confusion Matrix:')\n",
    "print(confusion_matrix(y_test, y_pred_lr_GS))"
   ]
  },
  {
   "cell_type": "code",
   "execution_count": null,
   "id": "0bfa15f8",
   "metadata": {},
   "outputs": [],
   "source": [
    "#RANDOM FOREST"
   ]
  },
  {
   "cell_type": "code",
   "execution_count": 101,
   "id": "f2bbcad7",
   "metadata": {},
   "outputs": [],
   "source": [
    "rf = RandomForestClassifier(random_state = 42)\n",
    "rf.fit(X_train, y_train)\n",
    "y_pred = rf.predict(X_test)\n"
   ]
  },
  {
   "cell_type": "code",
   "execution_count": null,
   "id": "bc45db53-62b8-496d-b21e-d2b6d16228af",
   "metadata": {},
   "outputs": [],
   "source": [
    "#RANDOM FOREST WITH RANDOMIZED SEARCH"
   ]
  },
  {
   "cell_type": "code",
   "execution_count": 15,
   "id": "925540e3",
   "metadata": {},
   "outputs": [],
   "source": [
    "#Hyperparameter grid for Random Forest classifier\n",
    "\n",
    "param_grid_RF={'bootstrap': [True, False],\n",
    "                'max_depth': [10, 20, 30, 40, 50, 60, 70, 80, 90, 100, None],\n",
    "                'max_features': ['auto', 'sqrt'],\n",
    "                'min_samples_leaf': [1, 2, 4],\n",
    "                'min_samples_split': [2, 5, 10],\n",
    "                'n_estimators': [200, 400, 600, 800, 1000, 1200, 1400, 1600, 1800, 2000]}"
   ]
  },
  {
   "cell_type": "code",
   "execution_count": 16,
   "id": "c8b63dec",
   "metadata": {},
   "outputs": [],
   "source": [
    "#Random Forest hyperparameter tuning using randomized search for the best model\n",
    "\n",
    "rf=RandomForestClassifier(random_state=42)\n",
    "best_random_rf= RandomizedSearchCV(\n",
    "                                    estimator=rf,\n",
    "                                    scoring='precision', \n",
    "                                    param_distributions=param_grid_RF, \n",
    "                                    n_iter=10,\n",
    "                                    cv=10, \n",
    "                                    verbose=0, \n",
    "                                    n_jobs = -1\n",
    "                                    )\n",
    "_ = best_random_rf.fit(X_train, y_train)"
   ]
  },
  {
   "cell_type": "code",
   "execution_count": 17,
   "id": "1abf17ba",
   "metadata": {},
   "outputs": [
    {
     "data": {
      "text/html": [
       "<div>\n",
       "<style scoped>\n",
       "    .dataframe tbody tr th:only-of-type {\n",
       "        vertical-align: middle;\n",
       "    }\n",
       "\n",
       "    .dataframe tbody tr th {\n",
       "        vertical-align: top;\n",
       "    }\n",
       "\n",
       "    .dataframe thead th {\n",
       "        text-align: right;\n",
       "    }\n",
       "</style>\n",
       "<table border=\"1\" class=\"dataframe\">\n",
       "  <thead>\n",
       "    <tr style=\"text-align: right;\">\n",
       "      <th></th>\n",
       "      <th>actual</th>\n",
       "      <th>predicted</th>\n",
       "    </tr>\n",
       "  </thead>\n",
       "  <tbody>\n",
       "    <tr>\n",
       "      <th>55952</th>\n",
       "      <td>1</td>\n",
       "      <td>0</td>\n",
       "    </tr>\n",
       "    <tr>\n",
       "      <th>41958</th>\n",
       "      <td>1</td>\n",
       "      <td>1</td>\n",
       "    </tr>\n",
       "    <tr>\n",
       "      <th>14551</th>\n",
       "      <td>0</td>\n",
       "      <td>0</td>\n",
       "    </tr>\n",
       "    <tr>\n",
       "      <th>25706</th>\n",
       "      <td>0</td>\n",
       "      <td>0</td>\n",
       "    </tr>\n",
       "    <tr>\n",
       "      <th>63488</th>\n",
       "      <td>1</td>\n",
       "      <td>1</td>\n",
       "    </tr>\n",
       "    <tr>\n",
       "      <th>53425</th>\n",
       "      <td>1</td>\n",
       "      <td>1</td>\n",
       "    </tr>\n",
       "    <tr>\n",
       "      <th>56750</th>\n",
       "      <td>1</td>\n",
       "      <td>1</td>\n",
       "    </tr>\n",
       "    <tr>\n",
       "      <th>23849</th>\n",
       "      <td>0</td>\n",
       "      <td>0</td>\n",
       "    </tr>\n",
       "    <tr>\n",
       "      <th>18226</th>\n",
       "      <td>0</td>\n",
       "      <td>0</td>\n",
       "    </tr>\n",
       "    <tr>\n",
       "      <th>62270</th>\n",
       "      <td>1</td>\n",
       "      <td>1</td>\n",
       "    </tr>\n",
       "    <tr>\n",
       "      <th>34476</th>\n",
       "      <td>0</td>\n",
       "      <td>0</td>\n",
       "    </tr>\n",
       "    <tr>\n",
       "      <th>38386</th>\n",
       "      <td>0</td>\n",
       "      <td>0</td>\n",
       "    </tr>\n",
       "    <tr>\n",
       "      <th>27896</th>\n",
       "      <td>0</td>\n",
       "      <td>0</td>\n",
       "    </tr>\n",
       "    <tr>\n",
       "      <th>44427</th>\n",
       "      <td>1</td>\n",
       "      <td>0</td>\n",
       "    </tr>\n",
       "    <tr>\n",
       "      <th>42775</th>\n",
       "      <td>1</td>\n",
       "      <td>0</td>\n",
       "    </tr>\n",
       "    <tr>\n",
       "      <th>44331</th>\n",
       "      <td>1</td>\n",
       "      <td>1</td>\n",
       "    </tr>\n",
       "    <tr>\n",
       "      <th>58601</th>\n",
       "      <td>1</td>\n",
       "      <td>1</td>\n",
       "    </tr>\n",
       "    <tr>\n",
       "      <th>75080</th>\n",
       "      <td>1</td>\n",
       "      <td>1</td>\n",
       "    </tr>\n",
       "    <tr>\n",
       "      <th>4517</th>\n",
       "      <td>0</td>\n",
       "      <td>0</td>\n",
       "    </tr>\n",
       "    <tr>\n",
       "      <th>5489</th>\n",
       "      <td>0</td>\n",
       "      <td>0</td>\n",
       "    </tr>\n",
       "  </tbody>\n",
       "</table>\n",
       "</div>"
      ],
      "text/plain": [
       "       actual  predicted\n",
       "55952       1          0\n",
       "41958       1          1\n",
       "14551       0          0\n",
       "25706       0          0\n",
       "63488       1          1\n",
       "53425       1          1\n",
       "56750       1          1\n",
       "23849       0          0\n",
       "18226       0          0\n",
       "62270       1          1\n",
       "34476       0          0\n",
       "38386       0          0\n",
       "27896       0          0\n",
       "44427       1          0\n",
       "42775       1          0\n",
       "44331       1          1\n",
       "58601       1          1\n",
       "75080       1          1\n",
       "4517        0          0\n",
       "5489        0          0"
      ]
     },
     "execution_count": 17,
     "metadata": {},
     "output_type": "execute_result"
    }
   ],
   "source": [
    "#Check the actual and predicted values side by side to get a better idea.   \n",
    "\n",
    "y_pred_rf_rs = best_random_rf.predict(X_test)\n",
    "results_rf_rs = pd.DataFrame()\n",
    "results_rf_rs['actual'] = y_test\n",
    "results_rf_rs['predicted'] = y_pred_rf_rs\n",
    "results_rf_rs.head(20)"
   ]
  },
  {
   "cell_type": "code",
   "execution_count": 18,
   "id": "e77be4e4",
   "metadata": {},
   "outputs": [
    {
     "name": "stdout",
     "output_type": "stream",
     "text": [
      "Best parameters found:  {'n_estimators': 600, 'min_samples_split': 10, 'min_samples_leaf': 4, 'max_features': 'sqrt', 'max_depth': 100, 'bootstrap': False}\n"
     ]
    }
   ],
   "source": [
    "# List of best parameters found using randomized search for Random Forest classifier\n",
    "\n",
    "random_search_best_params_rf = best_random_rf.best_params_\n",
    "print('Best parameters found: ', random_search_best_params_rf)"
   ]
  },
  {
   "cell_type": "code",
   "execution_count": 19,
   "id": "feed4fe4",
   "metadata": {},
   "outputs": [
    {
     "name": "stdout",
     "output_type": "stream",
     "text": [
      "Scores for Random Forest using Random Search\n",
      "Random Forest using Random Search Accuracy Score: 0.8772668528786426\n",
      "Random Forest using Random Search Precision Score: 0.9205890576941002\n",
      "Random Forest using Random Search Recall Score:0.8252151391093658\n",
      "Random Forest using Random Search F1 Score: 0.8702969424618908\n",
      "Random Forest using Random Search Confusion Matrix:\n",
      "[[11166   852]\n",
      " [ 2092  9877]]\n"
     ]
    }
   ],
   "source": [
    "# Check the accuracy, recall, precision and f1 score for the model after using Random Search .\n",
    "\n",
    "print(\"Scores for Random Forest using Random Search\")\n",
    "print(f\"{'Random Forest using Random Search Accuracy Score: ':18}{accuracy_score(y_test, y_pred_rf_rs)}\")\n",
    "print(f\"{'Random Forest using Random Search Precision Score: ':18}{precision_score(y_test, y_pred_rf_rs)}\")\n",
    "print(f\"{'Random Forest using Random Search Recall Score:':18}{recall_score(y_test, y_pred_rf_rs)}\")\n",
    "print(f\"{'Random Forest using Random Search F1 Score: ':18}{f1_score(y_test, y_pred_rf_rs)}\")\n",
    "print('Random Forest using Random Search Confusion Matrix:')\n",
    "print(confusion_matrix(y_test, y_pred_rf_rs))"
   ]
  },
  {
   "cell_type": "code",
   "execution_count": 20,
   "id": "3b0fd8e1",
   "metadata": {},
   "outputs": [],
   "source": [
    "# RANDOM FOREST CLASSIFIER WITH GRID SEARCH"
   ]
  },
  {
   "cell_type": "code",
   "execution_count": 21,
   "id": "73bb2e60",
   "metadata": {},
   "outputs": [],
   "source": [
    "#Grid search for hyperparameter tuning of a Random Forest classifier using a defined parameter grid.\n",
    "\n",
    "param_grid_GS_rf = { 'bootstrap': [True, False],\n",
    "                     'max_depth':[x for x in range(random_search_best_params_rf['max_depth']-5 , random_search_best_params_rf['max_depth']+5,10) if x > 10],\n",
    "                     'max_features': ['auto', 'sqrt'],\n",
    "                     'min_samples_leaf':[x for x in range(max(1,random_search_best_params_rf['min_samples_leaf']-2 ), random_search_best_params_rf['min_samples_leaf']+2,2) if x > 1],\n",
    "                     'min_samples_split':[x for x in range(max(1,random_search_best_params_rf['min_samples_split']-5) , random_search_best_params_rf['min_samples_split']+5,5) if x > 2],\n",
    "                     'n_estimators':[x for x in range(random_search_best_params_rf['n_estimators']-200 , random_search_best_params_rf['n_estimators']+200,100) if x > 100],\n",
    "                   }\n",
    "\n",
    "best_grid_search_rfmodel = GridSearchCV(\n",
    "                                        estimator=rf, \n",
    "                                        scoring='precision', \n",
    "                                        param_grid=param_grid_GS_rf, \n",
    "                                        cv=10, \n",
    "                                        verbose=0,  \n",
    "                                        n_jobs = -1\n",
    "                                      )\n",
    "_ = best_grid_search_rfmodel.fit(X_train, y_train)"
   ]
  },
  {
   "cell_type": "code",
   "execution_count": 22,
   "id": "5f45f22c",
   "metadata": {},
   "outputs": [
    {
     "data": {
      "text/html": [
       "<div>\n",
       "<style scoped>\n",
       "    .dataframe tbody tr th:only-of-type {\n",
       "        vertical-align: middle;\n",
       "    }\n",
       "\n",
       "    .dataframe tbody tr th {\n",
       "        vertical-align: top;\n",
       "    }\n",
       "\n",
       "    .dataframe thead th {\n",
       "        text-align: right;\n",
       "    }\n",
       "</style>\n",
       "<table border=\"1\" class=\"dataframe\">\n",
       "  <thead>\n",
       "    <tr style=\"text-align: right;\">\n",
       "      <th></th>\n",
       "      <th>actual</th>\n",
       "      <th>predicted</th>\n",
       "    </tr>\n",
       "  </thead>\n",
       "  <tbody>\n",
       "    <tr>\n",
       "      <th>55952</th>\n",
       "      <td>1</td>\n",
       "      <td>0</td>\n",
       "    </tr>\n",
       "    <tr>\n",
       "      <th>41958</th>\n",
       "      <td>1</td>\n",
       "      <td>1</td>\n",
       "    </tr>\n",
       "    <tr>\n",
       "      <th>14551</th>\n",
       "      <td>0</td>\n",
       "      <td>0</td>\n",
       "    </tr>\n",
       "    <tr>\n",
       "      <th>25706</th>\n",
       "      <td>0</td>\n",
       "      <td>0</td>\n",
       "    </tr>\n",
       "    <tr>\n",
       "      <th>63488</th>\n",
       "      <td>1</td>\n",
       "      <td>1</td>\n",
       "    </tr>\n",
       "    <tr>\n",
       "      <th>53425</th>\n",
       "      <td>1</td>\n",
       "      <td>1</td>\n",
       "    </tr>\n",
       "    <tr>\n",
       "      <th>56750</th>\n",
       "      <td>1</td>\n",
       "      <td>1</td>\n",
       "    </tr>\n",
       "    <tr>\n",
       "      <th>23849</th>\n",
       "      <td>0</td>\n",
       "      <td>0</td>\n",
       "    </tr>\n",
       "    <tr>\n",
       "      <th>18226</th>\n",
       "      <td>0</td>\n",
       "      <td>0</td>\n",
       "    </tr>\n",
       "    <tr>\n",
       "      <th>62270</th>\n",
       "      <td>1</td>\n",
       "      <td>1</td>\n",
       "    </tr>\n",
       "    <tr>\n",
       "      <th>34476</th>\n",
       "      <td>0</td>\n",
       "      <td>0</td>\n",
       "    </tr>\n",
       "    <tr>\n",
       "      <th>38386</th>\n",
       "      <td>0</td>\n",
       "      <td>0</td>\n",
       "    </tr>\n",
       "    <tr>\n",
       "      <th>27896</th>\n",
       "      <td>0</td>\n",
       "      <td>0</td>\n",
       "    </tr>\n",
       "    <tr>\n",
       "      <th>44427</th>\n",
       "      <td>1</td>\n",
       "      <td>0</td>\n",
       "    </tr>\n",
       "    <tr>\n",
       "      <th>42775</th>\n",
       "      <td>1</td>\n",
       "      <td>0</td>\n",
       "    </tr>\n",
       "    <tr>\n",
       "      <th>44331</th>\n",
       "      <td>1</td>\n",
       "      <td>1</td>\n",
       "    </tr>\n",
       "    <tr>\n",
       "      <th>58601</th>\n",
       "      <td>1</td>\n",
       "      <td>1</td>\n",
       "    </tr>\n",
       "    <tr>\n",
       "      <th>75080</th>\n",
       "      <td>1</td>\n",
       "      <td>1</td>\n",
       "    </tr>\n",
       "    <tr>\n",
       "      <th>4517</th>\n",
       "      <td>0</td>\n",
       "      <td>0</td>\n",
       "    </tr>\n",
       "    <tr>\n",
       "      <th>5489</th>\n",
       "      <td>0</td>\n",
       "      <td>0</td>\n",
       "    </tr>\n",
       "  </tbody>\n",
       "</table>\n",
       "</div>"
      ],
      "text/plain": [
       "       actual  predicted\n",
       "55952       1          0\n",
       "41958       1          1\n",
       "14551       0          0\n",
       "25706       0          0\n",
       "63488       1          1\n",
       "53425       1          1\n",
       "56750       1          1\n",
       "23849       0          0\n",
       "18226       0          0\n",
       "62270       1          1\n",
       "34476       0          0\n",
       "38386       0          0\n",
       "27896       0          0\n",
       "44427       1          0\n",
       "42775       1          0\n",
       "44331       1          1\n",
       "58601       1          1\n",
       "75080       1          1\n",
       "4517        0          0\n",
       "5489        0          0"
      ]
     },
     "execution_count": 22,
     "metadata": {},
     "output_type": "execute_result"
    }
   ],
   "source": [
    "#Check the actual and predicted values side by side to get a better idea.         \n",
    "    \n",
    "y_pred_rf_GS = best_grid_search_rfmodel.predict(X_test)\n",
    "results_CLF_GS = pd.DataFrame()\n",
    "results_CLF_GS['actual'] = y_test\n",
    "results_CLF_GS['predicted'] = y_pred_rf_GS\n",
    "results_CLF_GS.head(20)"
   ]
  },
  {
   "cell_type": "code",
   "execution_count": 23,
   "id": "d418617b",
   "metadata": {},
   "outputs": [
    {
     "name": "stdout",
     "output_type": "stream",
     "text": [
      "Best parameters found:  {'bootstrap': True, 'max_depth': 95, 'max_features': 'sqrt', 'min_samples_leaf': 4, 'min_samples_split': 10, 'n_estimators': 600}\n"
     ]
    }
   ],
   "source": [
    "# List of best parameters found using Grid Search for Random Forest classifier\n",
    "\n",
    "grid_search_best_params_rf = best_grid_search_rfmodel.best_params_\n",
    "print('Best parameters found: ', grid_search_best_params_rf)"
   ]
  },
  {
   "cell_type": "code",
   "execution_count": 24,
   "id": "c613758b",
   "metadata": {},
   "outputs": [
    {
     "name": "stdout",
     "output_type": "stream",
     "text": [
      "Scores for Random Forest using Grid Search\n",
      "Random Forest using Grid Search Accuracy Score: 0.8771834743819569\n",
      "Random Forest using Grid Search Precision Score: 0.9201825463351029\n",
      "Random Forest using Grid Search Recall Score:0.8254657866154231\n",
      "Random Forest using Grid Search F1 Score: 0.8702545582665375\n",
      "Random Forest using Grid Search Confusion Matrix:\n",
      "[[11161   857]\n",
      " [ 2089  9880]]\n"
     ]
    }
   ],
   "source": [
    "# Check the accuracy, recall, precision and f1 score for the model after using Grid Search .\n",
    "\n",
    "print(\"Scores for Random Forest using Grid Search\")\n",
    "print(f\"{'Random Forest using Grid Search Accuracy Score: ':18}{accuracy_score(y_test, y_pred_rf_GS)}\")\n",
    "print(f\"{'Random Forest using Grid Search Precision Score: ':18}{precision_score(y_test, y_pred_rf_GS)}\")\n",
    "print(f\"{'Random Forest using Grid Search Recall Score:':18}{recall_score(y_test, y_pred_rf_GS)}\")\n",
    "print(f\"{'Random Forest using Grid Search F1 Score: ':18}{f1_score(y_test, y_pred_rf_GS)}\")\n",
    "print('Random Forest using Grid Search Confusion Matrix:')\n",
    "print(confusion_matrix(y_test, y_pred_rf_GS))"
   ]
  },
  {
   "cell_type": "code",
   "execution_count": 25,
   "id": "f63ad8f1",
   "metadata": {},
   "outputs": [],
   "source": [
    "# ADABOOST CLASSIFIER WITH RANDOMIZED SEARCH"
   ]
  },
  {
   "cell_type": "code",
   "execution_count": 28,
   "id": "67c0111a",
   "metadata": {},
   "outputs": [],
   "source": [
    "#Hyperparameter tuning of AdaBoost classifier using randomized search for the best model\n",
    "\n",
    "ada_classifier = AdaBoostClassifier(base_estimator=DecisionTreeClassifier())\n",
    "\n",
    "param_grid_AC_rs = {\n",
    "    'n_estimators': [50, 100, 200],\n",
    "    'learning_rate': [0.01, 0.1, 1.0],\n",
    "    'base_estimator': [\n",
    "                        DecisionTreeClassifier(min_samples_split=2, min_impurity_decrease=0.01, max_depth=10)\n",
    "                      ] \n",
    "}\n",
    "\n",
    "best_random_search_ACmodel = RandomizedSearchCV(\n",
    "                                        estimator=ada_classifier, \n",
    "                                        scoring='precision', \n",
    "                                        param_distributions=param_grid_AC_rs, \n",
    "                                        cv=10, \n",
    "                                        verbose=0,  \n",
    "                                        n_jobs = -1\n",
    "                                      )\n",
    "_ = best_random_search_ACmodel.fit(X_train, y_train)\n",
    "                                              "
   ]
  },
  {
   "cell_type": "code",
   "execution_count": 29,
   "id": "cdcf0d87",
   "metadata": {},
   "outputs": [
    {
     "data": {
      "text/html": [
       "<div>\n",
       "<style scoped>\n",
       "    .dataframe tbody tr th:only-of-type {\n",
       "        vertical-align: middle;\n",
       "    }\n",
       "\n",
       "    .dataframe tbody tr th {\n",
       "        vertical-align: top;\n",
       "    }\n",
       "\n",
       "    .dataframe thead th {\n",
       "        text-align: right;\n",
       "    }\n",
       "</style>\n",
       "<table border=\"1\" class=\"dataframe\">\n",
       "  <thead>\n",
       "    <tr style=\"text-align: right;\">\n",
       "      <th></th>\n",
       "      <th>actual</th>\n",
       "      <th>predicted</th>\n",
       "    </tr>\n",
       "  </thead>\n",
       "  <tbody>\n",
       "    <tr>\n",
       "      <th>55952</th>\n",
       "      <td>1</td>\n",
       "      <td>0</td>\n",
       "    </tr>\n",
       "    <tr>\n",
       "      <th>41958</th>\n",
       "      <td>1</td>\n",
       "      <td>0</td>\n",
       "    </tr>\n",
       "    <tr>\n",
       "      <th>14551</th>\n",
       "      <td>0</td>\n",
       "      <td>0</td>\n",
       "    </tr>\n",
       "    <tr>\n",
       "      <th>25706</th>\n",
       "      <td>0</td>\n",
       "      <td>0</td>\n",
       "    </tr>\n",
       "    <tr>\n",
       "      <th>63488</th>\n",
       "      <td>1</td>\n",
       "      <td>1</td>\n",
       "    </tr>\n",
       "    <tr>\n",
       "      <th>53425</th>\n",
       "      <td>1</td>\n",
       "      <td>1</td>\n",
       "    </tr>\n",
       "    <tr>\n",
       "      <th>56750</th>\n",
       "      <td>1</td>\n",
       "      <td>1</td>\n",
       "    </tr>\n",
       "    <tr>\n",
       "      <th>23849</th>\n",
       "      <td>0</td>\n",
       "      <td>0</td>\n",
       "    </tr>\n",
       "    <tr>\n",
       "      <th>18226</th>\n",
       "      <td>0</td>\n",
       "      <td>0</td>\n",
       "    </tr>\n",
       "    <tr>\n",
       "      <th>62270</th>\n",
       "      <td>1</td>\n",
       "      <td>1</td>\n",
       "    </tr>\n",
       "    <tr>\n",
       "      <th>34476</th>\n",
       "      <td>0</td>\n",
       "      <td>0</td>\n",
       "    </tr>\n",
       "    <tr>\n",
       "      <th>38386</th>\n",
       "      <td>0</td>\n",
       "      <td>0</td>\n",
       "    </tr>\n",
       "    <tr>\n",
       "      <th>27896</th>\n",
       "      <td>0</td>\n",
       "      <td>0</td>\n",
       "    </tr>\n",
       "    <tr>\n",
       "      <th>44427</th>\n",
       "      <td>1</td>\n",
       "      <td>0</td>\n",
       "    </tr>\n",
       "    <tr>\n",
       "      <th>42775</th>\n",
       "      <td>1</td>\n",
       "      <td>0</td>\n",
       "    </tr>\n",
       "    <tr>\n",
       "      <th>44331</th>\n",
       "      <td>1</td>\n",
       "      <td>1</td>\n",
       "    </tr>\n",
       "    <tr>\n",
       "      <th>58601</th>\n",
       "      <td>1</td>\n",
       "      <td>1</td>\n",
       "    </tr>\n",
       "    <tr>\n",
       "      <th>75080</th>\n",
       "      <td>1</td>\n",
       "      <td>1</td>\n",
       "    </tr>\n",
       "    <tr>\n",
       "      <th>4517</th>\n",
       "      <td>0</td>\n",
       "      <td>0</td>\n",
       "    </tr>\n",
       "    <tr>\n",
       "      <th>5489</th>\n",
       "      <td>0</td>\n",
       "      <td>0</td>\n",
       "    </tr>\n",
       "  </tbody>\n",
       "</table>\n",
       "</div>"
      ],
      "text/plain": [
       "       actual  predicted\n",
       "55952       1          0\n",
       "41958       1          0\n",
       "14551       0          0\n",
       "25706       0          0\n",
       "63488       1          1\n",
       "53425       1          1\n",
       "56750       1          1\n",
       "23849       0          0\n",
       "18226       0          0\n",
       "62270       1          1\n",
       "34476       0          0\n",
       "38386       0          0\n",
       "27896       0          0\n",
       "44427       1          0\n",
       "42775       1          0\n",
       "44331       1          1\n",
       "58601       1          1\n",
       "75080       1          1\n",
       "4517        0          0\n",
       "5489        0          0"
      ]
     },
     "execution_count": 29,
     "metadata": {},
     "output_type": "execute_result"
    }
   ],
   "source": [
    "#Check the actual and predicted values side by side to get a better idea.         \n",
    "\n",
    "y_pred_ac_rs = best_random_search_ACmodel.predict(X_test)\n",
    "results_ac_rs = pd.DataFrame()\n",
    "results_ac_rs['actual'] = y_test\n",
    "results_ac_rs['predicted'] = y_pred_ac_rs\n",
    "results_ac_rs.head(20)"
   ]
  },
  {
   "cell_type": "code",
   "execution_count": 30,
   "id": "0b573d93",
   "metadata": {},
   "outputs": [
    {
     "name": "stdout",
     "output_type": "stream",
     "text": [
      "Best parameters found:  {'n_estimators': 100, 'learning_rate': 0.1, 'base_estimator': DecisionTreeClassifier(max_depth=10, min_impurity_decrease=0.01)}\n"
     ]
    }
   ],
   "source": [
    "# List of best parameters found using Randomized Search for AdaBoost classifier\n",
    "\n",
    "random_search_best_params_ac = best_random_search_ACmodel.best_params_\n",
    "print('Best parameters found: ', random_search_best_params_ac)"
   ]
  },
  {
   "cell_type": "code",
   "execution_count": 31,
   "id": "91d3a053",
   "metadata": {},
   "outputs": [
    {
     "name": "stdout",
     "output_type": "stream",
     "text": [
      "Scores for AdaBoost using Random Search\n",
      "AdaBoost using Random Search Accuracy Score: 0.863884604160587\n",
      "AdaBoost using Random Search Precision Score: 0.9160611854684513\n",
      "AdaBoost using Random Search Recall Score:0.8005681343470632\n",
      "AdaBoost using Random Search F1 Score: 0.8544295331936332\n",
      "AdaBoost using Random Search Confusion Matrix:\n",
      "[[11140   878]\n",
      " [ 2387  9582]]\n"
     ]
    }
   ],
   "source": [
    "# Check the accuracy, recall, precision and f1 score for the model after using Randomized Search .\n",
    "\n",
    "print(\"Scores for AdaBoost using Random Search\")\n",
    "print(f\"{'AdaBoost using Random Search Accuracy Score: ':18}{accuracy_score(y_test, y_pred_ac_rs)}\")\n",
    "print(f\"{'AdaBoost using Random Search Precision Score: ':18}{precision_score(y_test, y_pred_ac_rs)}\")\n",
    "print(f\"{'AdaBoost using Random Search Recall Score:':18}{recall_score(y_test, y_pred_ac_rs)}\")\n",
    "print(f\"{'AdaBoost using Random Search F1 Score: ':18}{f1_score(y_test, y_pred_ac_rs)}\")\n",
    "print('AdaBoost using Random Search Confusion Matrix:')\n",
    "print(confusion_matrix(y_test, y_pred_ac_rs))"
   ]
  },
  {
   "cell_type": "code",
   "execution_count": null,
   "id": "e6775e10",
   "metadata": {},
   "outputs": [],
   "source": [
    "# ADABOOST CLASSIFIER WITH GRID SEARCH"
   ]
  },
  {
   "cell_type": "code",
   "execution_count": 32,
   "id": "03f7d18c",
   "metadata": {},
   "outputs": [],
   "source": [
    "# Grid search for hyperparameter tuning of an AdaBoost classifier using a defined parameter grid\n",
    "\n",
    "param_grid_GS_rf = { 'n_estimators':[x for x in range(random_search_best_params_ac['n_estimators']-30 , random_search_best_params_ac['n_estimators']+30,50) if x > 10],\n",
    "                     'learning_rate': [x for x in np.arange(random_search_best_params_ac['learning_rate']-0.001, random_search_best_params_ac['learning_rate']+0.001,.0001).round(5) if x >= 0.000],\n",
    "                     'base_estimator': [\n",
    "                                        DecisionTreeClassifier(min_samples_split=2, min_impurity_decrease=0.01, max_depth=10)\n",
    "                                       ]   }\n",
    "\n",
    "best_grid_search_acmodel = GridSearchCV(\n",
    "                                        estimator=ada_classifier, \n",
    "                                        scoring='precision', \n",
    "                                        param_grid=param_grid_GS_rf, \n",
    "                                        cv=10, \n",
    "                                        verbose=0,  \n",
    "                                        n_jobs = -1\n",
    "                                      )\n",
    "_ = best_grid_search_acmodel.fit(X_train, y_train)                           "
   ]
  },
  {
   "cell_type": "code",
   "execution_count": 33,
   "id": "398222fb",
   "metadata": {},
   "outputs": [
    {
     "data": {
      "text/html": [
       "<div>\n",
       "<style scoped>\n",
       "    .dataframe tbody tr th:only-of-type {\n",
       "        vertical-align: middle;\n",
       "    }\n",
       "\n",
       "    .dataframe tbody tr th {\n",
       "        vertical-align: top;\n",
       "    }\n",
       "\n",
       "    .dataframe thead th {\n",
       "        text-align: right;\n",
       "    }\n",
       "</style>\n",
       "<table border=\"1\" class=\"dataframe\">\n",
       "  <thead>\n",
       "    <tr style=\"text-align: right;\">\n",
       "      <th></th>\n",
       "      <th>actual</th>\n",
       "      <th>predicted</th>\n",
       "    </tr>\n",
       "  </thead>\n",
       "  <tbody>\n",
       "    <tr>\n",
       "      <th>55952</th>\n",
       "      <td>1</td>\n",
       "      <td>0</td>\n",
       "    </tr>\n",
       "    <tr>\n",
       "      <th>41958</th>\n",
       "      <td>1</td>\n",
       "      <td>0</td>\n",
       "    </tr>\n",
       "    <tr>\n",
       "      <th>14551</th>\n",
       "      <td>0</td>\n",
       "      <td>0</td>\n",
       "    </tr>\n",
       "    <tr>\n",
       "      <th>25706</th>\n",
       "      <td>0</td>\n",
       "      <td>0</td>\n",
       "    </tr>\n",
       "    <tr>\n",
       "      <th>63488</th>\n",
       "      <td>1</td>\n",
       "      <td>1</td>\n",
       "    </tr>\n",
       "    <tr>\n",
       "      <th>53425</th>\n",
       "      <td>1</td>\n",
       "      <td>1</td>\n",
       "    </tr>\n",
       "    <tr>\n",
       "      <th>56750</th>\n",
       "      <td>1</td>\n",
       "      <td>1</td>\n",
       "    </tr>\n",
       "    <tr>\n",
       "      <th>23849</th>\n",
       "      <td>0</td>\n",
       "      <td>0</td>\n",
       "    </tr>\n",
       "    <tr>\n",
       "      <th>18226</th>\n",
       "      <td>0</td>\n",
       "      <td>0</td>\n",
       "    </tr>\n",
       "    <tr>\n",
       "      <th>62270</th>\n",
       "      <td>1</td>\n",
       "      <td>1</td>\n",
       "    </tr>\n",
       "    <tr>\n",
       "      <th>34476</th>\n",
       "      <td>0</td>\n",
       "      <td>0</td>\n",
       "    </tr>\n",
       "    <tr>\n",
       "      <th>38386</th>\n",
       "      <td>0</td>\n",
       "      <td>0</td>\n",
       "    </tr>\n",
       "    <tr>\n",
       "      <th>27896</th>\n",
       "      <td>0</td>\n",
       "      <td>0</td>\n",
       "    </tr>\n",
       "    <tr>\n",
       "      <th>44427</th>\n",
       "      <td>1</td>\n",
       "      <td>0</td>\n",
       "    </tr>\n",
       "    <tr>\n",
       "      <th>42775</th>\n",
       "      <td>1</td>\n",
       "      <td>0</td>\n",
       "    </tr>\n",
       "    <tr>\n",
       "      <th>44331</th>\n",
       "      <td>1</td>\n",
       "      <td>1</td>\n",
       "    </tr>\n",
       "    <tr>\n",
       "      <th>58601</th>\n",
       "      <td>1</td>\n",
       "      <td>1</td>\n",
       "    </tr>\n",
       "    <tr>\n",
       "      <th>75080</th>\n",
       "      <td>1</td>\n",
       "      <td>1</td>\n",
       "    </tr>\n",
       "    <tr>\n",
       "      <th>4517</th>\n",
       "      <td>0</td>\n",
       "      <td>0</td>\n",
       "    </tr>\n",
       "    <tr>\n",
       "      <th>5489</th>\n",
       "      <td>0</td>\n",
       "      <td>0</td>\n",
       "    </tr>\n",
       "  </tbody>\n",
       "</table>\n",
       "</div>"
      ],
      "text/plain": [
       "       actual  predicted\n",
       "55952       1          0\n",
       "41958       1          0\n",
       "14551       0          0\n",
       "25706       0          0\n",
       "63488       1          1\n",
       "53425       1          1\n",
       "56750       1          1\n",
       "23849       0          0\n",
       "18226       0          0\n",
       "62270       1          1\n",
       "34476       0          0\n",
       "38386       0          0\n",
       "27896       0          0\n",
       "44427       1          0\n",
       "42775       1          0\n",
       "44331       1          1\n",
       "58601       1          1\n",
       "75080       1          1\n",
       "4517        0          0\n",
       "5489        0          0"
      ]
     },
     "execution_count": 33,
     "metadata": {},
     "output_type": "execute_result"
    }
   ],
   "source": [
    "#Check the actual and predicted values side by side to get a better idea.  \n",
    "\n",
    "y_pred_ac_GS = best_grid_search_acmodel.predict(X_test)\n",
    "results_ac_GS = pd.DataFrame()\n",
    "results_ac_GS['actual'] = y_test\n",
    "results_ac_GS['predicted'] = y_pred_ac_GS\n",
    "results_ac_GS.head(20)"
   ]
  },
  {
   "cell_type": "code",
   "execution_count": 34,
   "id": "5887cf3b",
   "metadata": {},
   "outputs": [
    {
     "name": "stdout",
     "output_type": "stream",
     "text": [
      "Best parameters found:  {'base_estimator': DecisionTreeClassifier(max_depth=10, min_impurity_decrease=0.01), 'learning_rate': 0.101, 'n_estimators': 70}\n"
     ]
    }
   ],
   "source": [
    "# List of best parameters found using Grid Search for AdaBoost classifier\n",
    "\n",
    "grid_search_best_params_ac = best_grid_search_acmodel.best_params_\n",
    "print('Best parameters found: ', grid_search_best_params_ac)"
   ]
  },
  {
   "cell_type": "code",
   "execution_count": 90,
   "id": "d373e530",
   "metadata": {},
   "outputs": [
    {
     "name": "stdout",
     "output_type": "stream",
     "text": [
      "Scores for AdaBoost using Grid Search\n",
      "Adaboost using Grid Search Accuracy Score: 0.8645099428857298\n",
      "Adaboost using Grid Search Precision Score: 0.9169775227164036\n",
      "Adaboost using Grid Search Recall Score:0.8009858801904921\n",
      "Adaboost using Grid Search F1 Score: 0.8550660007135212\n",
      "Adaboost using Grid Search Confusion Matrix:\n",
      "[[11150   868]\n",
      " [ 2382  9587]]\n"
     ]
    }
   ],
   "source": [
    "# Check the accuracy, recall, precision and f1 score for the model after using Grid Search .\n",
    "\n",
    "print(\"Scores for AdaBoost using Grid Search\")\n",
    "print(f\"{'Adaboost using Grid Search Accuracy Score: ':18}{accuracy_score(y_test, y_pred_ac_GS)}\")\n",
    "print(f\"{'Adaboost using Grid Search Precision Score: ':18}{precision_score(y_test, y_pred_ac_GS)}\")\n",
    "print(f\"{'Adaboost using Grid Search Recall Score:':18}{recall_score(y_test, y_pred_ac_GS)}\")\n",
    "print(f\"{'Adaboost using Grid Search F1 Score: ':18}{f1_score(y_test, y_pred_ac_GS)}\")\n",
    "print('Adaboost using Grid Search Confusion Matrix:')\n",
    "print(confusion_matrix(y_test, y_pred_ac_GS))"
   ]
  },
  {
   "cell_type": "code",
   "execution_count": 91,
   "id": "61ee98c4",
   "metadata": {},
   "outputs": [],
   "source": [
    "#PRECISION COMPARISON FOR RANDOM AND GRID SEARCH"
   ]
  },
  {
   "cell_type": "code",
   "execution_count": 92,
   "id": "d4646e70",
   "metadata": {},
   "outputs": [
    {
     "data": {
      "image/png": "[encoded data removed]",
      "text/plain": [
       "<Figure size 800x500 with 1 Axes>"
      ]
     },
     "metadata": {},
     "output_type": "display_data"
    }
   ],
   "source": [
    "precision_list_R = ['Decision Tree', 'Logistic Regression', 'Random Forest', 'AdaBoost']\n",
    "precision_list_G = ['DT', 'LR', 'RF', 'AB']\n",
    "scores_R = [94.05, 90.87, 92.05, 91.60]\n",
    "scores_G = [91.27, 90.87, 92.01, 91.70]\n",
    "\n",
    "# Set the width of the bars\n",
    "bar_width = 0.25\n",
    "\n",
    "# Create an array to represent the position of each model on the x-axis\n",
    "x = range(len(precision_list_R))\n",
    "\n",
    "# Create a figure and axis\n",
    "fig, ax = plt.subplots(figsize=(8, 5))\n",
    "\n",
    "# Plot the precision for Random search\n",
    "plt.bar(x, scores_R, width=bar_width, label='Randomized Search', color='b', align='center')\n",
    "\n",
    "# Plot the precision for grid search\n",
    "plt.bar([i + bar_width for i in x], scores_G, width=bar_width, label='Grid Search', color='r', align='center')\n",
    "\n",
    "# Set the x-axis labels to be the model names\n",
    "plt.xticks([i + bar_width / 2 for i in x], precision_list_R)\n",
    "\n",
    "# Add a legend\n",
    "plt.legend()\n",
    "\n",
    "# Set labels and title\n",
    "plt.xlabel('Models')\n",
    "plt.ylabel('Scores')\n",
    "plt.title('Precision for Randomized and Grid Search')\n",
    "\n",
    "# Show the plot\n",
    "plt.show()"
   ]
  },
  {
   "cell_type": "code",
   "execution_count": 97,
   "id": "f1d39faa",
   "metadata": {},
   "outputs": [
    {
     "data": {
      "image/png": "[encoded data removed]",
      "text/plain": [
       "<Figure size 640x480 with 1 Axes>"
      ]
     },
     "metadata": {},
     "output_type": "display_data"
    }
   ],
   "source": [
    "#Plotting ROC curves for different models using data from randomized search.\n",
    "\n",
    "ROC_RandomizedSearch= RocCurveDisplay.from_estimator(best_random_search_model,X_test,y_test,name='Decision Tree Randomized Search') \n",
    "RocCurveDisplay.from_estimator(best_log_Reg,X_test,y_test,ax=ROC_RandomizedSearch.ax_,name='Logistic Regression Randomized Search')\n",
    "RocCurveDisplay.from_estimator(best_random_rf,X_test,y_test,ax=ROC_RandomizedSearch.ax_,name='Random Forest Randomized Search')\n",
    "RocCurveDisplay.from_estimator(best_random_search_ACmodel,X_test,y_test,ax=ROC_RandomizedSearch.ax_,name='Adaboost Randomized Search')\n",
    "plt.title('ROC curves for different models using data from Randomized search', fontsize=24)\n",
    "plt.show()"
   ]
  },
  {
   "cell_type": "code",
   "execution_count": 96,
   "id": "ef48322b",
   "metadata": {},
   "outputs": [
    {
     "data": {
      "image/png": "[encoded data removed]",
      "text/plain": [
       "<Figure size 640x480 with 1 Axes>"
      ]
     },
     "metadata": {},
     "output_type": "display_data"
    }
   ],
   "source": [
    "#Plotting ROC curves for different models using data from grid search\n",
    "\n",
    "ROC_GRIDSearch= RocCurveDisplay.from_estimator(best_grid_search_model,X_test,y_test,name='Decision Tree Grid Search')  \n",
    "RocCurveDisplay.from_estimator(best_grid_search_lrmodel,X_test,y_test,ax=ROC_GRIDSearch.ax_,name='Logistic Regression Grid Search')\n",
    "RocCurveDisplay.from_estimator(best_grid_search_rfmodel,X_test,y_test,ax=ROC_GRIDSearch.ax_,name='Random Forest Grid Search')\n",
    "RocCurveDisplay.from_estimator(best_grid_search_acmodel,X_test,y_test,ax=ROC_GRIDSearch.ax_,name='Adaboost Grid Search')\n",
    "plt.title('ROC curves for different models using data from grid search', fontsize=24)\n",
    "plt.show()"
   ]
  },
  {
   "cell_type": "code",
   "execution_count": 102,
   "id": "468c95cf",
   "metadata": {},
   "outputs": [
    {
     "data": {
      "image/png": "[encoded data removed]",
      "text/plain": [
       "<Figure size 1000x600 with 1 Axes>"
      ]
     },
     "metadata": {},
     "output_type": "display_data"
    }
   ],
   "source": [
    "# plot the feature importance\n",
    "feature_importance = pd.DataFrame({'feature': X_res.columns, 'importance': rf.feature_importances_})\n",
    "feature_importance.sort_values(by='importance', ascending=False, inplace=True)\n",
    "\n",
    "plt.figure(figsize=(10, 6))\n",
    "sns.barplot(x='importance', y='feature', data=feature_importance)\n",
    "plt.title('Feature importance of having diabetes')\n",
    "plt.show()"
   ]
  },
  {
   "cell_type": "code",
   "execution_count": null,
   "id": "aaeca12b",
   "metadata": {},
   "outputs": [],
   "source": []
  }
 ],
 "metadata": {
  "kernelspec": {
   "display_name": "Python 3 (ipykernel)",
   "language": "python",
   "name": "python3"
  },
  "language_info": {
   "codemirror_mode": {
    "name": "ipython",
    "version": 3
   },
   "file_extension": ".py",
   "mimetype": "text/x-python",
   "name": "python",
   "nbconvert_exporter": "python",
   "pygments_lexer": "ipython3",
   "version": "3.11.4"
  }
 },
 "nbformat": 4,
 "nbformat_minor": 5
}
